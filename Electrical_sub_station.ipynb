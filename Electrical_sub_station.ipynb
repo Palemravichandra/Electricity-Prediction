{
  "nbformat": 4,
  "nbformat_minor": 0,
  "metadata": {
    "colab": {
      "provenance": [],
      "authorship_tag": "ABX9TyOm+EhTKpUZ/S5vXVDbTPjk",
      "include_colab_link": true
    },
    "kernelspec": {
      "name": "python3",
      "display_name": "Python 3"
    },
    "language_info": {
      "name": "python"
    }
  },
  "cells": [
    {
      "cell_type": "markdown",
      "metadata": {
        "id": "view-in-github",
        "colab_type": "text"
      },
      "source": [
        "<a href=\"https://colab.research.google.com/github/Palemravichandra/Electricity-Prediction/blob/main/Electrical_sub_station.ipynb\" target=\"_parent\"><img src=\"https://colab.research.google.com/assets/colab-badge.svg\" alt=\"Open In Colab\"/></a>"
      ]
    },
    {
      "cell_type": "markdown",
      "source": [
        "Importing libraries"
      ],
      "metadata": {
        "id": "6vNQs6A6w6IW"
      }
    },
    {
      "cell_type": "code",
      "source": [
        "# Importing the necessary libraries\n",
        "import numpy as np \n",
        "import pandas as pd\n",
        "import matplotlib.pyplot as plt\n",
        "import seaborn as sns\n",
        "\n",
        "%matplotlib inline"
      ],
      "metadata": {
        "id": "IBPWzD9vw_3M"
      },
      "execution_count": 1,
      "outputs": []
    },
    {
      "cell_type": "markdown",
      "source": [
        "Reading the data"
      ],
      "metadata": {
        "id": "rsCj-9klxEBN"
      }
    },
    {
      "cell_type": "code",
      "source": [
        "# Reading the data\n",
        "df = pd.read_csv(\"Electric Station Data.csv\")"
      ],
      "metadata": {
        "id": "p18OWZuFxHZF"
      },
      "execution_count": 2,
      "outputs": []
    },
    {
      "cell_type": "code",
      "source": [
        "df.head()"
      ],
      "metadata": {
        "colab": {
          "base_uri": "https://localhost:8080/",
          "height": 461
        },
        "id": "gGtSlV0hxRwp",
        "outputId": "a26431b4-70f4-40a5-fd90-be3046d369cf"
      },
      "execution_count": 3,
      "outputs": [
        {
          "output_type": "execute_result",
          "data": {
            "text/plain": [
              "     Temp Vacuum      Pressure                  Plant Humidity  Energy  \\\n",
              "0   29.95    NaN  1011.44#$&!$  Amrita Energy Systems    66.32  432.81   \n",
              "1   5.76r  40.07       1013.22  Amrita Energy Systems    62.99  494.67   \n",
              "2   29.44    NaN        1011.4  Amrita Energy Systems    61.78  442.32   \n",
              "3  32.83#  74.33       1011.44  Amrita Energy Systems    50.42  427.36   \n",
              "4   16.86  39.63       1004.47  Amrita Energy Systems     83.5  466.68   \n",
              "\n",
              "              TempDiff       PressureDiff           RHSquared  \\\n",
              "0               -43.47  938.0200000000001                 NaN   \n",
              "1               -34.31          973.15II@  3967.7401000000004   \n",
              "2               -34.89  947.0699999999999                 NaN   \n",
              "3                -41.5             937.11  2542.1764000000003   \n",
              "4  -22.770000000000003                NaN             6972.25   \n",
              "\n",
              "        Testing Type       Place  PowerPerFuel          TempVacuum  \n",
              "0  Development Phase  Coimbatore      0.196828            2198.929  \n",
              "1  Development Phase  Coimbatore      2.143255            230.8032  \n",
              "2  Development Phase  Coimbatore      0.233553           1893.8752  \n",
              "3  Development Phase  Coimbatore      0.175129  2440.2538999999997  \n",
              "4  Development Phase  Coimbatore      0.698454            668.1618  "
            ],
            "text/html": [
              "\n",
              "  <div id=\"df-58a5e565-9d20-4a0d-877a-23e19c6aee1f\">\n",
              "    <div class=\"colab-df-container\">\n",
              "      <div>\n",
              "<style scoped>\n",
              "    .dataframe tbody tr th:only-of-type {\n",
              "        vertical-align: middle;\n",
              "    }\n",
              "\n",
              "    .dataframe tbody tr th {\n",
              "        vertical-align: top;\n",
              "    }\n",
              "\n",
              "    .dataframe thead th {\n",
              "        text-align: right;\n",
              "    }\n",
              "</style>\n",
              "<table border=\"1\" class=\"dataframe\">\n",
              "  <thead>\n",
              "    <tr style=\"text-align: right;\">\n",
              "      <th></th>\n",
              "      <th>Temp</th>\n",
              "      <th>Vacuum</th>\n",
              "      <th>Pressure</th>\n",
              "      <th>Plant</th>\n",
              "      <th>Humidity</th>\n",
              "      <th>Energy</th>\n",
              "      <th>TempDiff</th>\n",
              "      <th>PressureDiff</th>\n",
              "      <th>RHSquared</th>\n",
              "      <th>Testing Type</th>\n",
              "      <th>Place</th>\n",
              "      <th>PowerPerFuel</th>\n",
              "      <th>TempVacuum</th>\n",
              "    </tr>\n",
              "  </thead>\n",
              "  <tbody>\n",
              "    <tr>\n",
              "      <th>0</th>\n",
              "      <td>29.95</td>\n",
              "      <td>NaN</td>\n",
              "      <td>1011.44#$&amp;!$</td>\n",
              "      <td>Amrita Energy Systems</td>\n",
              "      <td>66.32</td>\n",
              "      <td>432.81</td>\n",
              "      <td>-43.47</td>\n",
              "      <td>938.0200000000001</td>\n",
              "      <td>NaN</td>\n",
              "      <td>Development Phase</td>\n",
              "      <td>Coimbatore</td>\n",
              "      <td>0.196828</td>\n",
              "      <td>2198.929</td>\n",
              "    </tr>\n",
              "    <tr>\n",
              "      <th>1</th>\n",
              "      <td>5.76r</td>\n",
              "      <td>40.07</td>\n",
              "      <td>1013.22</td>\n",
              "      <td>Amrita Energy Systems</td>\n",
              "      <td>62.99</td>\n",
              "      <td>494.67</td>\n",
              "      <td>-34.31</td>\n",
              "      <td>973.15II@</td>\n",
              "      <td>3967.7401000000004</td>\n",
              "      <td>Development Phase</td>\n",
              "      <td>Coimbatore</td>\n",
              "      <td>2.143255</td>\n",
              "      <td>230.8032</td>\n",
              "    </tr>\n",
              "    <tr>\n",
              "      <th>2</th>\n",
              "      <td>29.44</td>\n",
              "      <td>NaN</td>\n",
              "      <td>1011.4</td>\n",
              "      <td>Amrita Energy Systems</td>\n",
              "      <td>61.78</td>\n",
              "      <td>442.32</td>\n",
              "      <td>-34.89</td>\n",
              "      <td>947.0699999999999</td>\n",
              "      <td>NaN</td>\n",
              "      <td>Development Phase</td>\n",
              "      <td>Coimbatore</td>\n",
              "      <td>0.233553</td>\n",
              "      <td>1893.8752</td>\n",
              "    </tr>\n",
              "    <tr>\n",
              "      <th>3</th>\n",
              "      <td>32.83#</td>\n",
              "      <td>74.33</td>\n",
              "      <td>1011.44</td>\n",
              "      <td>Amrita Energy Systems</td>\n",
              "      <td>50.42</td>\n",
              "      <td>427.36</td>\n",
              "      <td>-41.5</td>\n",
              "      <td>937.11</td>\n",
              "      <td>2542.1764000000003</td>\n",
              "      <td>Development Phase</td>\n",
              "      <td>Coimbatore</td>\n",
              "      <td>0.175129</td>\n",
              "      <td>2440.2538999999997</td>\n",
              "    </tr>\n",
              "    <tr>\n",
              "      <th>4</th>\n",
              "      <td>16.86</td>\n",
              "      <td>39.63</td>\n",
              "      <td>1004.47</td>\n",
              "      <td>Amrita Energy Systems</td>\n",
              "      <td>83.5</td>\n",
              "      <td>466.68</td>\n",
              "      <td>-22.770000000000003</td>\n",
              "      <td>NaN</td>\n",
              "      <td>6972.25</td>\n",
              "      <td>Development Phase</td>\n",
              "      <td>Coimbatore</td>\n",
              "      <td>0.698454</td>\n",
              "      <td>668.1618</td>\n",
              "    </tr>\n",
              "  </tbody>\n",
              "</table>\n",
              "</div>\n",
              "      <button class=\"colab-df-convert\" onclick=\"convertToInteractive('df-58a5e565-9d20-4a0d-877a-23e19c6aee1f')\"\n",
              "              title=\"Convert this dataframe to an interactive table.\"\n",
              "              style=\"display:none;\">\n",
              "        \n",
              "  <svg xmlns=\"http://www.w3.org/2000/svg\" height=\"24px\"viewBox=\"0 0 24 24\"\n",
              "       width=\"24px\">\n",
              "    <path d=\"M0 0h24v24H0V0z\" fill=\"none\"/>\n",
              "    <path d=\"M18.56 5.44l.94 2.06.94-2.06 2.06-.94-2.06-.94-.94-2.06-.94 2.06-2.06.94zm-11 1L8.5 8.5l.94-2.06 2.06-.94-2.06-.94L8.5 2.5l-.94 2.06-2.06.94zm10 10l.94 2.06.94-2.06 2.06-.94-2.06-.94-.94-2.06-.94 2.06-2.06.94z\"/><path d=\"M17.41 7.96l-1.37-1.37c-.4-.4-.92-.59-1.43-.59-.52 0-1.04.2-1.43.59L10.3 9.45l-7.72 7.72c-.78.78-.78 2.05 0 2.83L4 21.41c.39.39.9.59 1.41.59.51 0 1.02-.2 1.41-.59l7.78-7.78 2.81-2.81c.8-.78.8-2.07 0-2.86zM5.41 20L4 18.59l7.72-7.72 1.47 1.35L5.41 20z\"/>\n",
              "  </svg>\n",
              "      </button>\n",
              "      \n",
              "  <style>\n",
              "    .colab-df-container {\n",
              "      display:flex;\n",
              "      flex-wrap:wrap;\n",
              "      gap: 12px;\n",
              "    }\n",
              "\n",
              "    .colab-df-convert {\n",
              "      background-color: #E8F0FE;\n",
              "      border: none;\n",
              "      border-radius: 50%;\n",
              "      cursor: pointer;\n",
              "      display: none;\n",
              "      fill: #1967D2;\n",
              "      height: 32px;\n",
              "      padding: 0 0 0 0;\n",
              "      width: 32px;\n",
              "    }\n",
              "\n",
              "    .colab-df-convert:hover {\n",
              "      background-color: #E2EBFA;\n",
              "      box-shadow: 0px 1px 2px rgba(60, 64, 67, 0.3), 0px 1px 3px 1px rgba(60, 64, 67, 0.15);\n",
              "      fill: #174EA6;\n",
              "    }\n",
              "\n",
              "    [theme=dark] .colab-df-convert {\n",
              "      background-color: #3B4455;\n",
              "      fill: #D2E3FC;\n",
              "    }\n",
              "\n",
              "    [theme=dark] .colab-df-convert:hover {\n",
              "      background-color: #434B5C;\n",
              "      box-shadow: 0px 1px 3px 1px rgba(0, 0, 0, 0.15);\n",
              "      filter: drop-shadow(0px 1px 2px rgba(0, 0, 0, 0.3));\n",
              "      fill: #FFFFFF;\n",
              "    }\n",
              "  </style>\n",
              "\n",
              "      <script>\n",
              "        const buttonEl =\n",
              "          document.querySelector('#df-58a5e565-9d20-4a0d-877a-23e19c6aee1f button.colab-df-convert');\n",
              "        buttonEl.style.display =\n",
              "          google.colab.kernel.accessAllowed ? 'block' : 'none';\n",
              "\n",
              "        async function convertToInteractive(key) {\n",
              "          const element = document.querySelector('#df-58a5e565-9d20-4a0d-877a-23e19c6aee1f');\n",
              "          const dataTable =\n",
              "            await google.colab.kernel.invokeFunction('convertToInteractive',\n",
              "                                                     [key], {});\n",
              "          if (!dataTable) return;\n",
              "\n",
              "          const docLinkHtml = 'Like what you see? Visit the ' +\n",
              "            '<a target=\"_blank\" href=https://colab.research.google.com/notebooks/data_table.ipynb>data table notebook</a>'\n",
              "            + ' to learn more about interactive tables.';\n",
              "          element.innerHTML = '';\n",
              "          dataTable['output_type'] = 'display_data';\n",
              "          await google.colab.output.renderOutput(dataTable, element);\n",
              "          const docLink = document.createElement('div');\n",
              "          docLink.innerHTML = docLinkHtml;\n",
              "          element.appendChild(docLink);\n",
              "        }\n",
              "      </script>\n",
              "    </div>\n",
              "  </div>\n",
              "  "
            ]
          },
          "metadata": {},
          "execution_count": 3
        }
      ]
    },
    {
      "cell_type": "code",
      "source": [
        "df.shape"
      ],
      "metadata": {
        "colab": {
          "base_uri": "https://localhost:8080/"
        },
        "id": "ojAU9Bi1xWEH",
        "outputId": "60fe00a7-37c5-43ae-c7a5-0c4c6c01819b"
      },
      "execution_count": 4,
      "outputs": [
        {
          "output_type": "execute_result",
          "data": {
            "text/plain": [
              "(19230, 13)"
            ]
          },
          "metadata": {},
          "execution_count": 4
        }
      ]
    },
    {
      "cell_type": "code",
      "source": [
        "df.columns"
      ],
      "metadata": {
        "colab": {
          "base_uri": "https://localhost:8080/"
        },
        "id": "g6ReHvQ5xbTC",
        "outputId": "35d131d6-b07b-4271-8a05-873255a58b1f"
      },
      "execution_count": 5,
      "outputs": [
        {
          "output_type": "execute_result",
          "data": {
            "text/plain": [
              "Index(['Temp', 'Vacuum', 'Pressure', 'Plant', 'Humidity', 'Energy', 'TempDiff',\n",
              "       'PressureDiff', 'RHSquared', 'Testing Type', 'Place', 'PowerPerFuel',\n",
              "       'TempVacuum'],\n",
              "      dtype='object')"
            ]
          },
          "metadata": {},
          "execution_count": 5
        }
      ]
    },
    {
      "cell_type": "markdown",
      "source": [
        "Basic Information about the data - Exploratory data analysis"
      ],
      "metadata": {
        "id": "IXCiDQ3pxe87"
      }
    },
    {
      "cell_type": "code",
      "source": [
        "# Basic Information\n",
        "df.info()"
      ],
      "metadata": {
        "colab": {
          "base_uri": "https://localhost:8080/"
        },
        "id": "P553ZfkIxjjK",
        "outputId": "28539242-28e7-4c11-c951-5796e9ec51ce"
      },
      "execution_count": 6,
      "outputs": [
        {
          "output_type": "stream",
          "name": "stdout",
          "text": [
            "<class 'pandas.core.frame.DataFrame'>\n",
            "RangeIndex: 19230 entries, 0 to 19229\n",
            "Data columns (total 13 columns):\n",
            " #   Column        Non-Null Count  Dtype  \n",
            "---  ------        --------------  -----  \n",
            " 0   Temp          16347 non-null  object \n",
            " 1   Vacuum        16347 non-null  object \n",
            " 2   Pressure      19230 non-null  object \n",
            " 3   Plant         16347 non-null  object \n",
            " 4   Humidity      19230 non-null  object \n",
            " 5   Energy        19230 non-null  float64\n",
            " 6   TempDiff      19230 non-null  object \n",
            " 7   PressureDiff  16347 non-null  object \n",
            " 8   RHSquared     16347 non-null  object \n",
            " 9   Testing Type  19230 non-null  object \n",
            " 10  Place         19230 non-null  object \n",
            " 11  PowerPerFuel  16347 non-null  float64\n",
            " 12  TempVacuum    16347 non-null  object \n",
            "dtypes: float64(2), object(11)\n",
            "memory usage: 1.9+ MB\n"
          ]
        }
      ]
    },
    {
      "cell_type": "code",
      "source": [
        "# Describe the data - Descriptive Statistics\n",
        "df.describe()"
      ],
      "metadata": {
        "colab": {
          "base_uri": "https://localhost:8080/",
          "height": 300
        },
        "id": "bokHEWtjxq-Q",
        "outputId": "1ba756cd-e6f1-471c-d3d6-df657b0a5990"
      },
      "execution_count": 7,
      "outputs": [
        {
          "output_type": "execute_result",
          "data": {
            "text/plain": [
              "             Energy  PowerPerFuel\n",
              "count  19230.000000  16347.000000\n",
              "mean     454.363276      0.618519\n",
              "std       17.059242      0.507499\n",
              "min      420.260000      0.158781\n",
              "25%      439.830000      0.261322\n",
              "50%      451.440000      0.403173\n",
              "75%      468.270000      0.822638\n",
              "max      495.760000      6.875244"
            ],
            "text/html": [
              "\n",
              "  <div id=\"df-f8bbf535-4e62-4ba3-aa0b-de49260091a5\">\n",
              "    <div class=\"colab-df-container\">\n",
              "      <div>\n",
              "<style scoped>\n",
              "    .dataframe tbody tr th:only-of-type {\n",
              "        vertical-align: middle;\n",
              "    }\n",
              "\n",
              "    .dataframe tbody tr th {\n",
              "        vertical-align: top;\n",
              "    }\n",
              "\n",
              "    .dataframe thead th {\n",
              "        text-align: right;\n",
              "    }\n",
              "</style>\n",
              "<table border=\"1\" class=\"dataframe\">\n",
              "  <thead>\n",
              "    <tr style=\"text-align: right;\">\n",
              "      <th></th>\n",
              "      <th>Energy</th>\n",
              "      <th>PowerPerFuel</th>\n",
              "    </tr>\n",
              "  </thead>\n",
              "  <tbody>\n",
              "    <tr>\n",
              "      <th>count</th>\n",
              "      <td>19230.000000</td>\n",
              "      <td>16347.000000</td>\n",
              "    </tr>\n",
              "    <tr>\n",
              "      <th>mean</th>\n",
              "      <td>454.363276</td>\n",
              "      <td>0.618519</td>\n",
              "    </tr>\n",
              "    <tr>\n",
              "      <th>std</th>\n",
              "      <td>17.059242</td>\n",
              "      <td>0.507499</td>\n",
              "    </tr>\n",
              "    <tr>\n",
              "      <th>min</th>\n",
              "      <td>420.260000</td>\n",
              "      <td>0.158781</td>\n",
              "    </tr>\n",
              "    <tr>\n",
              "      <th>25%</th>\n",
              "      <td>439.830000</td>\n",
              "      <td>0.261322</td>\n",
              "    </tr>\n",
              "    <tr>\n",
              "      <th>50%</th>\n",
              "      <td>451.440000</td>\n",
              "      <td>0.403173</td>\n",
              "    </tr>\n",
              "    <tr>\n",
              "      <th>75%</th>\n",
              "      <td>468.270000</td>\n",
              "      <td>0.822638</td>\n",
              "    </tr>\n",
              "    <tr>\n",
              "      <th>max</th>\n",
              "      <td>495.760000</td>\n",
              "      <td>6.875244</td>\n",
              "    </tr>\n",
              "  </tbody>\n",
              "</table>\n",
              "</div>\n",
              "      <button class=\"colab-df-convert\" onclick=\"convertToInteractive('df-f8bbf535-4e62-4ba3-aa0b-de49260091a5')\"\n",
              "              title=\"Convert this dataframe to an interactive table.\"\n",
              "              style=\"display:none;\">\n",
              "        \n",
              "  <svg xmlns=\"http://www.w3.org/2000/svg\" height=\"24px\"viewBox=\"0 0 24 24\"\n",
              "       width=\"24px\">\n",
              "    <path d=\"M0 0h24v24H0V0z\" fill=\"none\"/>\n",
              "    <path d=\"M18.56 5.44l.94 2.06.94-2.06 2.06-.94-2.06-.94-.94-2.06-.94 2.06-2.06.94zm-11 1L8.5 8.5l.94-2.06 2.06-.94-2.06-.94L8.5 2.5l-.94 2.06-2.06.94zm10 10l.94 2.06.94-2.06 2.06-.94-2.06-.94-.94-2.06-.94 2.06-2.06.94z\"/><path d=\"M17.41 7.96l-1.37-1.37c-.4-.4-.92-.59-1.43-.59-.52 0-1.04.2-1.43.59L10.3 9.45l-7.72 7.72c-.78.78-.78 2.05 0 2.83L4 21.41c.39.39.9.59 1.41.59.51 0 1.02-.2 1.41-.59l7.78-7.78 2.81-2.81c.8-.78.8-2.07 0-2.86zM5.41 20L4 18.59l7.72-7.72 1.47 1.35L5.41 20z\"/>\n",
              "  </svg>\n",
              "      </button>\n",
              "      \n",
              "  <style>\n",
              "    .colab-df-container {\n",
              "      display:flex;\n",
              "      flex-wrap:wrap;\n",
              "      gap: 12px;\n",
              "    }\n",
              "\n",
              "    .colab-df-convert {\n",
              "      background-color: #E8F0FE;\n",
              "      border: none;\n",
              "      border-radius: 50%;\n",
              "      cursor: pointer;\n",
              "      display: none;\n",
              "      fill: #1967D2;\n",
              "      height: 32px;\n",
              "      padding: 0 0 0 0;\n",
              "      width: 32px;\n",
              "    }\n",
              "\n",
              "    .colab-df-convert:hover {\n",
              "      background-color: #E2EBFA;\n",
              "      box-shadow: 0px 1px 2px rgba(60, 64, 67, 0.3), 0px 1px 3px 1px rgba(60, 64, 67, 0.15);\n",
              "      fill: #174EA6;\n",
              "    }\n",
              "\n",
              "    [theme=dark] .colab-df-convert {\n",
              "      background-color: #3B4455;\n",
              "      fill: #D2E3FC;\n",
              "    }\n",
              "\n",
              "    [theme=dark] .colab-df-convert:hover {\n",
              "      background-color: #434B5C;\n",
              "      box-shadow: 0px 1px 3px 1px rgba(0, 0, 0, 0.15);\n",
              "      filter: drop-shadow(0px 1px 2px rgba(0, 0, 0, 0.3));\n",
              "      fill: #FFFFFF;\n",
              "    }\n",
              "  </style>\n",
              "\n",
              "      <script>\n",
              "        const buttonEl =\n",
              "          document.querySelector('#df-f8bbf535-4e62-4ba3-aa0b-de49260091a5 button.colab-df-convert');\n",
              "        buttonEl.style.display =\n",
              "          google.colab.kernel.accessAllowed ? 'block' : 'none';\n",
              "\n",
              "        async function convertToInteractive(key) {\n",
              "          const element = document.querySelector('#df-f8bbf535-4e62-4ba3-aa0b-de49260091a5');\n",
              "          const dataTable =\n",
              "            await google.colab.kernel.invokeFunction('convertToInteractive',\n",
              "                                                     [key], {});\n",
              "          if (!dataTable) return;\n",
              "\n",
              "          const docLinkHtml = 'Like what you see? Visit the ' +\n",
              "            '<a target=\"_blank\" href=https://colab.research.google.com/notebooks/data_table.ipynb>data table notebook</a>'\n",
              "            + ' to learn more about interactive tables.';\n",
              "          element.innerHTML = '';\n",
              "          dataTable['output_type'] = 'display_data';\n",
              "          await google.colab.output.renderOutput(dataTable, element);\n",
              "          const docLink = document.createElement('div');\n",
              "          docLink.innerHTML = docLinkHtml;\n",
              "          element.appendChild(docLink);\n",
              "        }\n",
              "      </script>\n",
              "    </div>\n",
              "  </div>\n",
              "  "
            ]
          },
          "metadata": {},
          "execution_count": 7
        }
      ]
    },
    {
      "cell_type": "markdown",
      "source": [
        "Using this function, you can see the number of null values, datatypes and memory usage as shown in the above outputs along with the descriptive statistics\n",
        "\n",
        "2.Dupllicate values\n",
        "\n",
        "You can use df.duplicate.sum() function to the sum of duplicate values present if any. It will show the number of duplicate values if they present in the dataset."
      ],
      "metadata": {
        "id": "sI017Iphxvmz"
      }
    },
    {
      "cell_type": "code",
      "source": [
        "# Finding the duplicates\n",
        "df.duplicated().sum()"
      ],
      "metadata": {
        "colab": {
          "base_uri": "https://localhost:8080/"
        },
        "id": "gFoJlquBx436",
        "outputId": "a3a1aa72-8a0c-497c-f0e0-4c2226324509"
      },
      "execution_count": 8,
      "outputs": [
        {
          "output_type": "execute_result",
          "data": {
            "text/plain": [
              "12820"
            ]
          },
          "metadata": {},
          "execution_count": 8
        }
      ]
    },
    {
      "cell_type": "markdown",
      "source": [
        "3. Unique values in the data\n",
        "\n",
        "You can find the number of unique values in the particular column using unique() function in python."
      ],
      "metadata": {
        "id": "-zS9v3C2yFWA"
      }
    },
    {
      "cell_type": "code",
      "source": [
        "# Unique values\n",
        "df['Plant'].unique()"
      ],
      "metadata": {
        "colab": {
          "base_uri": "https://localhost:8080/"
        },
        "id": "JHkHY_fXyL7S",
        "outputId": "68d12d18-ebb5-4eb5-970b-6a141f86dd1b"
      },
      "execution_count": 9,
      "outputs": [
        {
          "output_type": "execute_result",
          "data": {
            "text/plain": [
              "array(['Amrita Energy Systems', nan], dtype=object)"
            ]
          },
          "metadata": {},
          "execution_count": 9
        }
      ]
    },
    {
      "cell_type": "code",
      "source": [
        "df['Testing Type'].unique()"
      ],
      "metadata": {
        "colab": {
          "base_uri": "https://localhost:8080/"
        },
        "id": "DCda6biZyRVJ",
        "outputId": "d977bbda-a014-44e4-fdc5-a89d28c3e41d"
      },
      "execution_count": 10,
      "outputs": [
        {
          "output_type": "execute_result",
          "data": {
            "text/plain": [
              "array(['Development Phase'], dtype=object)"
            ]
          },
          "metadata": {},
          "execution_count": 10
        }
      ]
    },
    {
      "cell_type": "code",
      "source": [
        "# Count unique values in each column\n",
        "df.nunique()"
      ],
      "metadata": {
        "colab": {
          "base_uri": "https://localhost:8080/"
        },
        "id": "RVgpzNS5yUud",
        "outputId": "1a0c700f-b9f3-4938-9bc3-810e1249e112"
      },
      "execution_count": 11,
      "outputs": [
        {
          "output_type": "execute_result",
          "data": {
            "text/plain": [
              "Temp            2867\n",
              "Vacuum          1140\n",
              "Pressure        2758\n",
              "Plant              1\n",
              "Humidity        4186\n",
              "Energy          3910\n",
              "TempDiff        4339\n",
              "PressureDiff    4261\n",
              "RHSquared       3767\n",
              "Testing Type       1\n",
              "Place              1\n",
              "PowerPerFuel    5436\n",
              "TempVacuum      5388\n",
              "dtype: int64"
            ]
          },
          "metadata": {},
          "execution_count": 11
        }
      ]
    },
    {
      "cell_type": "markdown",
      "source": [
        "The unique() function has returned the unique values which are present in the dataset.\n",
        "\n",
        "4. Find the Null values\n",
        "\n",
        "Find the null values is the most important step in the EDA process. So, lets see how we can find the null values in the data"
      ],
      "metadata": {
        "id": "Mu9QHFZCyj_M"
      }
    },
    {
      "cell_type": "code",
      "source": [
        "# Find the null values\n",
        "df.isnull().sum()"
      ],
      "metadata": {
        "colab": {
          "base_uri": "https://localhost:8080/"
        },
        "id": "S1sTReGjysOi",
        "outputId": "3990940e-b10f-4d03-ead4-7a922ccb4189"
      },
      "execution_count": 12,
      "outputs": [
        {
          "output_type": "execute_result",
          "data": {
            "text/plain": [
              "Temp            2883\n",
              "Vacuum          2883\n",
              "Pressure           0\n",
              "Plant           2883\n",
              "Humidity           0\n",
              "Energy             0\n",
              "TempDiff           0\n",
              "PressureDiff    2883\n",
              "RHSquared       2883\n",
              "Testing Type       0\n",
              "Place              0\n",
              "PowerPerFuel    2883\n",
              "TempVacuum      2883\n",
              "dtype: int64"
            ]
          },
          "metadata": {},
          "execution_count": 12
        }
      ]
    },
    {
      "cell_type": "markdown",
      "source": [
        "We have some null values in the 'Temp', 'Vacuum', 'Plant', 'PressureDiff', 'RHSquared', 'PowerPerFuel' and 'TempVacuum'.\n",
        "\n",
        "5. Visualization of the unique counts"
      ],
      "metadata": {
        "id": "a3gnDMUTyy--"
      }
    },
    {
      "cell_type": "code",
      "source": [
        "# plot the unique values\n",
        "sns.countplot(x='Humidity', data=df)"
      ],
      "metadata": {
        "colab": {
          "base_uri": "https://localhost:8080/",
          "height": 467
        },
        "id": "kLDnv39CzGqo",
        "outputId": "4e36454d-8af8-42f2-bd93-687405315881"
      },
      "execution_count": 13,
      "outputs": [
        {
          "output_type": "execute_result",
          "data": {
            "text/plain": [
              "<Axes: xlabel='Humidity', ylabel='count'>"
            ]
          },
          "metadata": {},
          "execution_count": 13
        },
        {
          "output_type": "display_data",
          "data": {
            "text/plain": [
              "<Figure size 640x480 with 1 Axes>"
            ],
            "image/png": "[encoded data removed]"
          },
          "metadata": {}
        }
      ]
    },
    {
      "cell_type": "markdown",
      "source": [
        "6. Replacing Alphanumeric values with Numeric values"
      ],
      "metadata": {
        "id": "vDYCvEJkzOuN"
      }
    },
    {
      "cell_type": "code",
      "source": [
        "# as there are some alphanumeric values, we need to convert them\n",
        "import re\n",
        "\n",
        "df['Temp'] = df['Temp'].apply(lambda x: re.sub(r'[^0-9.]+', '', str(x)))\n",
        "df['Vacuum'] = df['Vacuum'].apply(lambda x: re.sub(r'[^0-9.]+', '', str(x)))\n",
        "df['Pressure'] = df['Pressure'].apply(lambda x: re.sub(r'[^0-9.]+', '', str(x)))\n",
        "df['Humidity'] = df['Humidity'].apply(lambda x: re.sub(r'[^0-9.]+', '', str(x)))\n",
        "df['PressureDiff'] = df['PressureDiff'].apply(lambda x: re.sub(r'[^0-9.]+', '', str(x)))\n",
        "df['TempDiff'] = df['TempDiff'].apply(lambda x: re.sub(r'[^0-9.]+', '', str(x)))\n"
      ],
      "metadata": {
        "id": "KMIyUwELzOHr"
      },
      "execution_count": 14,
      "outputs": []
    },
    {
      "cell_type": "code",
      "source": [
        "# remove columns using drop\n",
        "df_new = df.drop(['Testing Type', 'Place', 'Plant', 'RHSquared', 'TempVacuum'], axis = 1)"
      ],
      "metadata": {
        "id": "O9xYKkBPzhp6"
      },
      "execution_count": 15,
      "outputs": []
    },
    {
      "cell_type": "code",
      "source": [
        "# shape of the data\n",
        "df_new.shape"
      ],
      "metadata": {
        "colab": {
          "base_uri": "https://localhost:8080/"
        },
        "id": "q2DOdaDlzj7j",
        "outputId": "ba4c75ae-4084-4954-818a-80bab9204ed6"
      },
      "execution_count": 16,
      "outputs": [
        {
          "output_type": "execute_result",
          "data": {
            "text/plain": [
              "(19230, 8)"
            ]
          },
          "metadata": {},
          "execution_count": 16
        }
      ]
    },
    {
      "cell_type": "code",
      "source": [
        "# convert to numeric\n",
        "df_new['Temp'] = pd.to_numeric(df_new['Temp'], errors='coerce')\n",
        "df_new['Vacuum'] = pd.to_numeric(df_new['Vacuum'], errors='coerce')\n",
        "df_new['Pressure'] = pd.to_numeric(df_new['Pressure'], errors='coerce')\n",
        "df_new['Humidity'] = pd.to_numeric(df_new['Humidity'], errors='coerce')\n",
        "df_new['PressureDiff'] = pd.to_numeric(df_new['PressureDiff'], errors='coerce')\n",
        "df_new['TempDiff'] = pd.to_numeric(df_new['TempDiff'], errors='coerce')"
      ],
      "metadata": {
        "id": "xC9VWUObzpWv"
      },
      "execution_count": 17,
      "outputs": []
    },
    {
      "cell_type": "code",
      "source": [
        "df_new.head()"
      ],
      "metadata": {
        "colab": {
          "base_uri": "https://localhost:8080/",
          "height": 206
        },
        "id": "mN57K5fEzsBz",
        "outputId": "5731049f-4592-4513-df76-89c765b92981"
      },
      "execution_count": 18,
      "outputs": [
        {
          "output_type": "execute_result",
          "data": {
            "text/plain": [
              "    Temp  Vacuum  Pressure  Humidity  Energy  TempDiff  PressureDiff  \\\n",
              "0  29.95     NaN   1011.44     66.32  432.81     43.47        938.02   \n",
              "1   5.76   40.07   1013.22     62.99  494.67     34.31        973.15   \n",
              "2  29.44     NaN   1011.40     61.78  442.32     34.89        947.07   \n",
              "3  32.83   74.33   1011.44     50.42  427.36     41.50        937.11   \n",
              "4  16.86   39.63   1004.47     83.50  466.68     22.77           NaN   \n",
              "\n",
              "   PowerPerFuel  \n",
              "0      0.196828  \n",
              "1      2.143255  \n",
              "2      0.233553  \n",
              "3      0.175129  \n",
              "4      0.698454  "
            ],
            "text/html": [
              "\n",
              "  <div id=\"df-a0a4dc5d-8d22-47ba-885d-e17606137c38\">\n",
              "    <div class=\"colab-df-container\">\n",
              "      <div>\n",
              "<style scoped>\n",
              "    .dataframe tbody tr th:only-of-type {\n",
              "        vertical-align: middle;\n",
              "    }\n",
              "\n",
              "    .dataframe tbody tr th {\n",
              "        vertical-align: top;\n",
              "    }\n",
              "\n",
              "    .dataframe thead th {\n",
              "        text-align: right;\n",
              "    }\n",
              "</style>\n",
              "<table border=\"1\" class=\"dataframe\">\n",
              "  <thead>\n",
              "    <tr style=\"text-align: right;\">\n",
              "      <th></th>\n",
              "      <th>Temp</th>\n",
              "      <th>Vacuum</th>\n",
              "      <th>Pressure</th>\n",
              "      <th>Humidity</th>\n",
              "      <th>Energy</th>\n",
              "      <th>TempDiff</th>\n",
              "      <th>PressureDiff</th>\n",
              "      <th>PowerPerFuel</th>\n",
              "    </tr>\n",
              "  </thead>\n",
              "  <tbody>\n",
              "    <tr>\n",
              "      <th>0</th>\n",
              "      <td>29.95</td>\n",
              "      <td>NaN</td>\n",
              "      <td>1011.44</td>\n",
              "      <td>66.32</td>\n",
              "      <td>432.81</td>\n",
              "      <td>43.47</td>\n",
              "      <td>938.02</td>\n",
              "      <td>0.196828</td>\n",
              "    </tr>\n",
              "    <tr>\n",
              "      <th>1</th>\n",
              "      <td>5.76</td>\n",
              "      <td>40.07</td>\n",
              "      <td>1013.22</td>\n",
              "      <td>62.99</td>\n",
              "      <td>494.67</td>\n",
              "      <td>34.31</td>\n",
              "      <td>973.15</td>\n",
              "      <td>2.143255</td>\n",
              "    </tr>\n",
              "    <tr>\n",
              "      <th>2</th>\n",
              "      <td>29.44</td>\n",
              "      <td>NaN</td>\n",
              "      <td>1011.40</td>\n",
              "      <td>61.78</td>\n",
              "      <td>442.32</td>\n",
              "      <td>34.89</td>\n",
              "      <td>947.07</td>\n",
              "      <td>0.233553</td>\n",
              "    </tr>\n",
              "    <tr>\n",
              "      <th>3</th>\n",
              "      <td>32.83</td>\n",
              "      <td>74.33</td>\n",
              "      <td>1011.44</td>\n",
              "      <td>50.42</td>\n",
              "      <td>427.36</td>\n",
              "      <td>41.50</td>\n",
              "      <td>937.11</td>\n",
              "      <td>0.175129</td>\n",
              "    </tr>\n",
              "    <tr>\n",
              "      <th>4</th>\n",
              "      <td>16.86</td>\n",
              "      <td>39.63</td>\n",
              "      <td>1004.47</td>\n",
              "      <td>83.50</td>\n",
              "      <td>466.68</td>\n",
              "      <td>22.77</td>\n",
              "      <td>NaN</td>\n",
              "      <td>0.698454</td>\n",
              "    </tr>\n",
              "  </tbody>\n",
              "</table>\n",
              "</div>\n",
              "      <button class=\"colab-df-convert\" onclick=\"convertToInteractive('df-a0a4dc5d-8d22-47ba-885d-e17606137c38')\"\n",
              "              title=\"Convert this dataframe to an interactive table.\"\n",
              "              style=\"display:none;\">\n",
              "        \n",
              "  <svg xmlns=\"http://www.w3.org/2000/svg\" height=\"24px\"viewBox=\"0 0 24 24\"\n",
              "       width=\"24px\">\n",
              "    <path d=\"M0 0h24v24H0V0z\" fill=\"none\"/>\n",
              "    <path d=\"M18.56 5.44l.94 2.06.94-2.06 2.06-.94-2.06-.94-.94-2.06-.94 2.06-2.06.94zm-11 1L8.5 8.5l.94-2.06 2.06-.94-2.06-.94L8.5 2.5l-.94 2.06-2.06.94zm10 10l.94 2.06.94-2.06 2.06-.94-2.06-.94-.94-2.06-.94 2.06-2.06.94z\"/><path d=\"M17.41 7.96l-1.37-1.37c-.4-.4-.92-.59-1.43-.59-.52 0-1.04.2-1.43.59L10.3 9.45l-7.72 7.72c-.78.78-.78 2.05 0 2.83L4 21.41c.39.39.9.59 1.41.59.51 0 1.02-.2 1.41-.59l7.78-7.78 2.81-2.81c.8-.78.8-2.07 0-2.86zM5.41 20L4 18.59l7.72-7.72 1.47 1.35L5.41 20z\"/>\n",
              "  </svg>\n",
              "      </button>\n",
              "      \n",
              "  <style>\n",
              "    .colab-df-container {\n",
              "      display:flex;\n",
              "      flex-wrap:wrap;\n",
              "      gap: 12px;\n",
              "    }\n",
              "\n",
              "    .colab-df-convert {\n",
              "      background-color: #E8F0FE;\n",
              "      border: none;\n",
              "      border-radius: 50%;\n",
              "      cursor: pointer;\n",
              "      display: none;\n",
              "      fill: #1967D2;\n",
              "      height: 32px;\n",
              "      padding: 0 0 0 0;\n",
              "      width: 32px;\n",
              "    }\n",
              "\n",
              "    .colab-df-convert:hover {\n",
              "      background-color: #E2EBFA;\n",
              "      box-shadow: 0px 1px 2px rgba(60, 64, 67, 0.3), 0px 1px 3px 1px rgba(60, 64, 67, 0.15);\n",
              "      fill: #174EA6;\n",
              "    }\n",
              "\n",
              "    [theme=dark] .colab-df-convert {\n",
              "      background-color: #3B4455;\n",
              "      fill: #D2E3FC;\n",
              "    }\n",
              "\n",
              "    [theme=dark] .colab-df-convert:hover {\n",
              "      background-color: #434B5C;\n",
              "      box-shadow: 0px 1px 3px 1px rgba(0, 0, 0, 0.15);\n",
              "      filter: drop-shadow(0px 1px 2px rgba(0, 0, 0, 0.3));\n",
              "      fill: #FFFFFF;\n",
              "    }\n",
              "  </style>\n",
              "\n",
              "      <script>\n",
              "        const buttonEl =\n",
              "          document.querySelector('#df-a0a4dc5d-8d22-47ba-885d-e17606137c38 button.colab-df-convert');\n",
              "        buttonEl.style.display =\n",
              "          google.colab.kernel.accessAllowed ? 'block' : 'none';\n",
              "\n",
              "        async function convertToInteractive(key) {\n",
              "          const element = document.querySelector('#df-a0a4dc5d-8d22-47ba-885d-e17606137c38');\n",
              "          const dataTable =\n",
              "            await google.colab.kernel.invokeFunction('convertToInteractive',\n",
              "                                                     [key], {});\n",
              "          if (!dataTable) return;\n",
              "\n",
              "          const docLinkHtml = 'Like what you see? Visit the ' +\n",
              "            '<a target=\"_blank\" href=https://colab.research.google.com/notebooks/data_table.ipynb>data table notebook</a>'\n",
              "            + ' to learn more about interactive tables.';\n",
              "          element.innerHTML = '';\n",
              "          dataTable['output_type'] = 'display_data';\n",
              "          await google.colab.output.renderOutput(dataTable, element);\n",
              "          const docLink = document.createElement('div');\n",
              "          docLink.innerHTML = docLinkHtml;\n",
              "          element.appendChild(docLink);\n",
              "        }\n",
              "      </script>\n",
              "    </div>\n",
              "  </div>\n",
              "  "
            ]
          },
          "metadata": {},
          "execution_count": 18
        }
      ]
    },
    {
      "cell_type": "code",
      "source": [
        "df_new.shape"
      ],
      "metadata": {
        "colab": {
          "base_uri": "https://localhost:8080/"
        },
        "id": "nKttC_Gczxyp",
        "outputId": "7eb04826-98f8-47be-fd46-c63bb405f2c9"
      },
      "execution_count": 19,
      "outputs": [
        {
          "output_type": "execute_result",
          "data": {
            "text/plain": [
              "(19230, 8)"
            ]
          },
          "metadata": {},
          "execution_count": 19
        }
      ]
    },
    {
      "cell_type": "code",
      "source": [
        "df_new.info"
      ],
      "metadata": {
        "colab": {
          "base_uri": "https://localhost:8080/"
        },
        "id": "_gB_G8TqzzDn",
        "outputId": "33b71789-f997-482e-e1e7-95b2a48b77ed"
      },
      "execution_count": 21,
      "outputs": [
        {
          "output_type": "execute_result",
          "data": {
            "text/plain": [
              "<bound method DataFrame.info of         Temp  Vacuum  Pressure  Humidity  Energy  TempDiff  PressureDiff  \\\n",
              "0      29.95     NaN   1011.44     66.32  432.81     43.47        938.02   \n",
              "1       5.76   40.07   1013.22     62.99  494.67     34.31        973.15   \n",
              "2      29.44     NaN   1011.40     61.78  442.32     34.89        947.07   \n",
              "3      32.83   74.33   1011.44     50.42  427.36     41.50        937.11   \n",
              "4      16.86   39.63   1004.47     83.50  466.68     22.77           NaN   \n",
              "...      ...     ...       ...       ...     ...       ...           ...   \n",
              "19225  23.39   61.87   1010.35     48.91  444.03     38.48        948.48   \n",
              "19226  11.63     NaN   1022.89     87.12  474.67     28.92        982.34   \n",
              "19227    NaN   69.23   1012.86     45.71  435.06     41.44        943.63   \n",
              "19228  12.26   41.50   1014.87     89.41  471.13     29.24        973.37   \n",
              "19229  11.75   40.55   1018.09     97.70  472.43     28.80        977.54   \n",
              "\n",
              "       PowerPerFuel  \n",
              "0          0.196828  \n",
              "1          2.143255  \n",
              "2          0.233553  \n",
              "3          0.175129  \n",
              "4          0.698454  \n",
              "...             ...  \n",
              "19225      0.306833  \n",
              "19226           NaN  \n",
              "19227      0.226134  \n",
              "19228      0.925981  \n",
              "19229      0.991537  \n",
              "\n",
              "[19230 rows x 8 columns]>"
            ]
          },
          "metadata": {},
          "execution_count": 21
        }
      ]
    },
    {
      "cell_type": "markdown",
      "source": [
        "7. Dropping the NULL Values"
      ],
      "metadata": {
        "id": "X3MdHyaQz8MR"
      }
    },
    {
      "cell_type": "code",
      "source": [
        "# dropping nan values\n",
        "df_new = df_new.dropna()"
      ],
      "metadata": {
        "id": "wkKL6cjpz_XZ"
      },
      "execution_count": 22,
      "outputs": []
    },
    {
      "cell_type": "code",
      "source": [
        "df_new.shape"
      ],
      "metadata": {
        "colab": {
          "base_uri": "https://localhost:8080/"
        },
        "id": "AjtfHJ2A0Cco",
        "outputId": "085c93d3-2244-4aeb-8177-9c23eb3ffe86"
      },
      "execution_count": 23,
      "outputs": [
        {
          "output_type": "execute_result",
          "data": {
            "text/plain": [
              "(10065, 8)"
            ]
          },
          "metadata": {},
          "execution_count": 23
        }
      ]
    },
    {
      "cell_type": "markdown",
      "source": [
        "8. Know the dataframes\n",
        "\n",
        "Knowing the datatypes which you are exploring it."
      ],
      "metadata": {
        "id": "rb6eLCxD0HvY"
      }
    },
    {
      "cell_type": "code",
      "source": [
        "df_new.dtypes"
      ],
      "metadata": {
        "colab": {
          "base_uri": "https://localhost:8080/"
        },
        "id": "kx8n44no0LEA",
        "outputId": "5a687877-b6d4-4eb9-8cfa-4027c76ae71b"
      },
      "execution_count": 24,
      "outputs": [
        {
          "output_type": "execute_result",
          "data": {
            "text/plain": [
              "Temp            float64\n",
              "Vacuum          float64\n",
              "Pressure        float64\n",
              "Humidity        float64\n",
              "Energy          float64\n",
              "TempDiff        float64\n",
              "PressureDiff    float64\n",
              "PowerPerFuel    float64\n",
              "dtype: object"
            ]
          },
          "metadata": {},
          "execution_count": 24
        }
      ]
    },
    {
      "cell_type": "markdown",
      "source": [
        "9. Correlation Plot - EDA\n",
        "\n",
        "it gives some fair idea of the correlation strength between different variables"
      ],
      "metadata": {
        "id": "ZUa5PMho0PzH"
      }
    },
    {
      "cell_type": "code",
      "source": [
        "df_new.corr()"
      ],
      "metadata": {
        "colab": {
          "base_uri": "https://localhost:8080/",
          "height": 300
        },
        "id": "v1Rchd2O0TPH",
        "outputId": "6bd35dea-c063-44b9-ac8c-178b9cad84ed"
      },
      "execution_count": 25,
      "outputs": [
        {
          "output_type": "execute_result",
          "data": {
            "text/plain": [
              "                  Temp    Vacuum  Pressure  Humidity    Energy  TempDiff  \\\n",
              "Temp          1.000000  0.842567 -0.501144 -0.553647 -0.949224  0.423948   \n",
              "Vacuum        0.842567  1.000000 -0.422994 -0.310159 -0.867962  0.845000   \n",
              "Pressure     -0.501144 -0.422994  1.000000  0.104681  0.511956 -0.213714   \n",
              "Humidity     -0.553647 -0.310159  0.104681  1.000000  0.399333  0.028157   \n",
              "Energy       -0.949224 -0.867962  0.511956  0.399333  1.000000 -0.517068   \n",
              "TempDiff      0.423948  0.845000 -0.213714  0.028157 -0.517068  1.000000   \n",
              "PressureDiff -0.847264 -0.941888  0.702806  0.282306  0.871209 -0.742617   \n",
              "PowerPerFuel -0.865857 -0.728385  0.388221  0.393599  0.862054 -0.365132   \n",
              "\n",
              "              PressureDiff  PowerPerFuel  \n",
              "Temp             -0.847264     -0.865857  \n",
              "Vacuum           -0.941888     -0.728385  \n",
              "Pressure          0.702806      0.388221  \n",
              "Humidity          0.282306      0.393599  \n",
              "Energy            0.871209      0.862054  \n",
              "TempDiff         -0.742617     -0.365132  \n",
              "PressureDiff      1.000000      0.715759  \n",
              "PowerPerFuel      0.715759      1.000000  "
            ],
            "text/html": [
              "\n",
              "  <div id=\"df-7d2958eb-4381-45b9-9403-cae04258cc3f\">\n",
              "    <div class=\"colab-df-container\">\n",
              "      <div>\n",
              "<style scoped>\n",
              "    .dataframe tbody tr th:only-of-type {\n",
              "        vertical-align: middle;\n",
              "    }\n",
              "\n",
              "    .dataframe tbody tr th {\n",
              "        vertical-align: top;\n",
              "    }\n",
              "\n",
              "    .dataframe thead th {\n",
              "        text-align: right;\n",
              "    }\n",
              "</style>\n",
              "<table border=\"1\" class=\"dataframe\">\n",
              "  <thead>\n",
              "    <tr style=\"text-align: right;\">\n",
              "      <th></th>\n",
              "      <th>Temp</th>\n",
              "      <th>Vacuum</th>\n",
              "      <th>Pressure</th>\n",
              "      <th>Humidity</th>\n",
              "      <th>Energy</th>\n",
              "      <th>TempDiff</th>\n",
              "      <th>PressureDiff</th>\n",
              "      <th>PowerPerFuel</th>\n",
              "    </tr>\n",
              "  </thead>\n",
              "  <tbody>\n",
              "    <tr>\n",
              "      <th>Temp</th>\n",
              "      <td>1.000000</td>\n",
              "      <td>0.842567</td>\n",
              "      <td>-0.501144</td>\n",
              "      <td>-0.553647</td>\n",
              "      <td>-0.949224</td>\n",
              "      <td>0.423948</td>\n",
              "      <td>-0.847264</td>\n",
              "      <td>-0.865857</td>\n",
              "    </tr>\n",
              "    <tr>\n",
              "      <th>Vacuum</th>\n",
              "      <td>0.842567</td>\n",
              "      <td>1.000000</td>\n",
              "      <td>-0.422994</td>\n",
              "      <td>-0.310159</td>\n",
              "      <td>-0.867962</td>\n",
              "      <td>0.845000</td>\n",
              "      <td>-0.941888</td>\n",
              "      <td>-0.728385</td>\n",
              "    </tr>\n",
              "    <tr>\n",
              "      <th>Pressure</th>\n",
              "      <td>-0.501144</td>\n",
              "      <td>-0.422994</td>\n",
              "      <td>1.000000</td>\n",
              "      <td>0.104681</td>\n",
              "      <td>0.511956</td>\n",
              "      <td>-0.213714</td>\n",
              "      <td>0.702806</td>\n",
              "      <td>0.388221</td>\n",
              "    </tr>\n",
              "    <tr>\n",
              "      <th>Humidity</th>\n",
              "      <td>-0.553647</td>\n",
              "      <td>-0.310159</td>\n",
              "      <td>0.104681</td>\n",
              "      <td>1.000000</td>\n",
              "      <td>0.399333</td>\n",
              "      <td>0.028157</td>\n",
              "      <td>0.282306</td>\n",
              "      <td>0.393599</td>\n",
              "    </tr>\n",
              "    <tr>\n",
              "      <th>Energy</th>\n",
              "      <td>-0.949224</td>\n",
              "      <td>-0.867962</td>\n",
              "      <td>0.511956</td>\n",
              "      <td>0.399333</td>\n",
              "      <td>1.000000</td>\n",
              "      <td>-0.517068</td>\n",
              "      <td>0.871209</td>\n",
              "      <td>0.862054</td>\n",
              "    </tr>\n",
              "    <tr>\n",
              "      <th>TempDiff</th>\n",
              "      <td>0.423948</td>\n",
              "      <td>0.845000</td>\n",
              "      <td>-0.213714</td>\n",
              "      <td>0.028157</td>\n",
              "      <td>-0.517068</td>\n",
              "      <td>1.000000</td>\n",
              "      <td>-0.742617</td>\n",
              "      <td>-0.365132</td>\n",
              "    </tr>\n",
              "    <tr>\n",
              "      <th>PressureDiff</th>\n",
              "      <td>-0.847264</td>\n",
              "      <td>-0.941888</td>\n",
              "      <td>0.702806</td>\n",
              "      <td>0.282306</td>\n",
              "      <td>0.871209</td>\n",
              "      <td>-0.742617</td>\n",
              "      <td>1.000000</td>\n",
              "      <td>0.715759</td>\n",
              "    </tr>\n",
              "    <tr>\n",
              "      <th>PowerPerFuel</th>\n",
              "      <td>-0.865857</td>\n",
              "      <td>-0.728385</td>\n",
              "      <td>0.388221</td>\n",
              "      <td>0.393599</td>\n",
              "      <td>0.862054</td>\n",
              "      <td>-0.365132</td>\n",
              "      <td>0.715759</td>\n",
              "      <td>1.000000</td>\n",
              "    </tr>\n",
              "  </tbody>\n",
              "</table>\n",
              "</div>\n",
              "      <button class=\"colab-df-convert\" onclick=\"convertToInteractive('df-7d2958eb-4381-45b9-9403-cae04258cc3f')\"\n",
              "              title=\"Convert this dataframe to an interactive table.\"\n",
              "              style=\"display:none;\">\n",
              "        \n",
              "  <svg xmlns=\"http://www.w3.org/2000/svg\" height=\"24px\"viewBox=\"0 0 24 24\"\n",
              "       width=\"24px\">\n",
              "    <path d=\"M0 0h24v24H0V0z\" fill=\"none\"/>\n",
              "    <path d=\"M18.56 5.44l.94 2.06.94-2.06 2.06-.94-2.06-.94-.94-2.06-.94 2.06-2.06.94zm-11 1L8.5 8.5l.94-2.06 2.06-.94-2.06-.94L8.5 2.5l-.94 2.06-2.06.94zm10 10l.94 2.06.94-2.06 2.06-.94-2.06-.94-.94-2.06-.94 2.06-2.06.94z\"/><path d=\"M17.41 7.96l-1.37-1.37c-.4-.4-.92-.59-1.43-.59-.52 0-1.04.2-1.43.59L10.3 9.45l-7.72 7.72c-.78.78-.78 2.05 0 2.83L4 21.41c.39.39.9.59 1.41.59.51 0 1.02-.2 1.41-.59l7.78-7.78 2.81-2.81c.8-.78.8-2.07 0-2.86zM5.41 20L4 18.59l7.72-7.72 1.47 1.35L5.41 20z\"/>\n",
              "  </svg>\n",
              "      </button>\n",
              "      \n",
              "  <style>\n",
              "    .colab-df-container {\n",
              "      display:flex;\n",
              "      flex-wrap:wrap;\n",
              "      gap: 12px;\n",
              "    }\n",
              "\n",
              "    .colab-df-convert {\n",
              "      background-color: #E8F0FE;\n",
              "      border: none;\n",
              "      border-radius: 50%;\n",
              "      cursor: pointer;\n",
              "      display: none;\n",
              "      fill: #1967D2;\n",
              "      height: 32px;\n",
              "      padding: 0 0 0 0;\n",
              "      width: 32px;\n",
              "    }\n",
              "\n",
              "    .colab-df-convert:hover {\n",
              "      background-color: #E2EBFA;\n",
              "      box-shadow: 0px 1px 2px rgba(60, 64, 67, 0.3), 0px 1px 3px 1px rgba(60, 64, 67, 0.15);\n",
              "      fill: #174EA6;\n",
              "    }\n",
              "\n",
              "    [theme=dark] .colab-df-convert {\n",
              "      background-color: #3B4455;\n",
              "      fill: #D2E3FC;\n",
              "    }\n",
              "\n",
              "    [theme=dark] .colab-df-convert:hover {\n",
              "      background-color: #434B5C;\n",
              "      box-shadow: 0px 1px 3px 1px rgba(0, 0, 0, 0.15);\n",
              "      filter: drop-shadow(0px 1px 2px rgba(0, 0, 0, 0.3));\n",
              "      fill: #FFFFFF;\n",
              "    }\n",
              "  </style>\n",
              "\n",
              "      <script>\n",
              "        const buttonEl =\n",
              "          document.querySelector('#df-7d2958eb-4381-45b9-9403-cae04258cc3f button.colab-df-convert');\n",
              "        buttonEl.style.display =\n",
              "          google.colab.kernel.accessAllowed ? 'block' : 'none';\n",
              "\n",
              "        async function convertToInteractive(key) {\n",
              "          const element = document.querySelector('#df-7d2958eb-4381-45b9-9403-cae04258cc3f');\n",
              "          const dataTable =\n",
              "            await google.colab.kernel.invokeFunction('convertToInteractive',\n",
              "                                                     [key], {});\n",
              "          if (!dataTable) return;\n",
              "\n",
              "          const docLinkHtml = 'Like what you see? Visit the ' +\n",
              "            '<a target=\"_blank\" href=https://colab.research.google.com/notebooks/data_table.ipynb>data table notebook</a>'\n",
              "            + ' to learn more about interactive tables.';\n",
              "          element.innerHTML = '';\n",
              "          dataTable['output_type'] = 'display_data';\n",
              "          await google.colab.output.renderOutput(dataTable, element);\n",
              "          const docLink = document.createElement('div');\n",
              "          docLink.innerHTML = docLinkHtml;\n",
              "          element.appendChild(docLink);\n",
              "        }\n",
              "      </script>\n",
              "    </div>\n",
              "  </div>\n",
              "  "
            ]
          },
          "metadata": {},
          "execution_count": 25
        }
      ]
    },
    {
      "cell_type": "markdown",
      "source": [
        "this is the correlation matrix with the range from -1 to +1, where +1 is highly and positively correlated and -1 will be highly negatively correlated.\n",
        "\n",
        "you can even visualize the correlation matrix using seaborn library"
      ],
      "metadata": {
        "id": "3-HU76AR0aVz"
      }
    },
    {
      "cell_type": "code",
      "source": [
        "sns.heatmap(df_new.corr())"
      ],
      "metadata": {
        "colab": {
          "base_uri": "https://localhost:8080/",
          "height": 532
        },
        "id": "76WXTxvJ0eJs",
        "outputId": "9a68d897-2fb4-49b9-af41-a198e922efa8"
      },
      "execution_count": 26,
      "outputs": [
        {
          "output_type": "execute_result",
          "data": {
            "text/plain": [
              "<Axes: >"
            ]
          },
          "metadata": {},
          "execution_count": 26
        },
        {
          "output_type": "display_data",
          "data": {
            "text/plain": [
              "<Figure size 640x480 with 2 Axes>"
            ],
            "image/png": "[encoded data removed]"
          },
          "metadata": {}
        }
      ]
    },
    {
      "cell_type": "markdown",
      "source": [
        "Machine Learning Predictions"
      ],
      "metadata": {
        "id": "FlPVYFHa0ki8"
      }
    },
    {
      "cell_type": "code",
      "source": [
        "# train test split\n",
        "from sklearn.model_selection import train_test_split\n",
        "\n",
        "X = df_new.drop('Energy', axis = 1)\n",
        "y = df_new['Energy']\n",
        "\n",
        "x_train, x_test, y_train, y_test = train_test_split(X, y, test_size = 0.15, random_state = 42)\n",
        "\n",
        "x_train.columns"
      ],
      "metadata": {
        "colab": {
          "base_uri": "https://localhost:8080/"
        },
        "id": "rrTI8nLa0n9H",
        "outputId": "4b4f19e0-d59e-4d82-db0f-1c46d608abd3"
      },
      "execution_count": 32,
      "outputs": [
        {
          "output_type": "execute_result",
          "data": {
            "text/plain": [
              "Index(['Temp', 'Vacuum', 'Pressure', 'Humidity', 'TempDiff', 'PressureDiff',\n",
              "       'PowerPerFuel'],\n",
              "      dtype='object')"
            ]
          },
          "metadata": {},
          "execution_count": 32
        }
      ]
    },
    {
      "cell_type": "code",
      "source": [
        "x_train.shape,y_train.shape"
      ],
      "metadata": {
        "colab": {
          "base_uri": "https://localhost:8080/"
        },
        "id": "ZeFTsUEK1QxA",
        "outputId": "91c3475a-6c9f-446f-9384-64f16cfff8a8"
      },
      "execution_count": 34,
      "outputs": [
        {
          "output_type": "execute_result",
          "data": {
            "text/plain": [
              "((8555, 7), (8555,))"
            ]
          },
          "metadata": {},
          "execution_count": 34
        }
      ]
    },
    {
      "cell_type": "code",
      "source": [
        "x_train"
      ],
      "metadata": {
        "colab": {
          "base_uri": "https://localhost:8080/",
          "height": 423
        },
        "id": "2MiRZ-op1qkw",
        "outputId": "8ab604ef-d523-4df6-dd03-8aec40a1a941"
      },
      "execution_count": 35,
      "outputs": [
        {
          "output_type": "execute_result",
          "data": {
            "text/plain": [
              "        Temp  Vacuum  Pressure  Humidity  TempDiff  PressureDiff  PowerPerFuel\n",
              "4014    7.57   37.49   1009.73     83.07     29.92        972.24      1.698313\n",
              "17275  30.09   76.20   1006.64     61.02     46.11        930.44      0.189580\n",
              "12455  21.98   55.50   1017.89     57.90     33.52        962.39      0.374862\n",
              "17299  23.73   59.15   1014.08     62.65     35.42        954.93      0.316373\n",
              "8332   16.38   55.50   1019.80     82.44     39.12        964.30      0.511039\n",
              "...      ...     ...       ...       ...       ...           ...           ...\n",
              "10916  12.95   40.10   1015.31     86.01     27.15        975.21      0.907134\n",
              "9885   20.95   44.89   1010.48     67.97     23.94        965.59      0.478911\n",
              "10258  26.53   60.07   1016.55     54.79     33.54        956.48      0.275178\n",
              "1602   24.88   63.31   1014.23     55.76     38.43        950.92      0.280316\n",
              "13873  20.86   67.25   1017.45     81.45     46.39        950.20      0.316858\n",
              "\n",
              "[8555 rows x 7 columns]"
            ],
            "text/html": [
              "\n",
              "  <div id=\"df-1b236364-b9cf-428a-86f6-d7fcd01ca299\">\n",
              "    <div class=\"colab-df-container\">\n",
              "      <div>\n",
              "<style scoped>\n",
              "    .dataframe tbody tr th:only-of-type {\n",
              "        vertical-align: middle;\n",
              "    }\n",
              "\n",
              "    .dataframe tbody tr th {\n",
              "        vertical-align: top;\n",
              "    }\n",
              "\n",
              "    .dataframe thead th {\n",
              "        text-align: right;\n",
              "    }\n",
              "</style>\n",
              "<table border=\"1\" class=\"dataframe\">\n",
              "  <thead>\n",
              "    <tr style=\"text-align: right;\">\n",
              "      <th></th>\n",
              "      <th>Temp</th>\n",
              "      <th>Vacuum</th>\n",
              "      <th>Pressure</th>\n",
              "      <th>Humidity</th>\n",
              "      <th>TempDiff</th>\n",
              "      <th>PressureDiff</th>\n",
              "      <th>PowerPerFuel</th>\n",
              "    </tr>\n",
              "  </thead>\n",
              "  <tbody>\n",
              "    <tr>\n",
              "      <th>4014</th>\n",
              "      <td>7.57</td>\n",
              "      <td>37.49</td>\n",
              "      <td>1009.73</td>\n",
              "      <td>83.07</td>\n",
              "      <td>29.92</td>\n",
              "      <td>972.24</td>\n",
              "      <td>1.698313</td>\n",
              "    </tr>\n",
              "    <tr>\n",
              "      <th>17275</th>\n",
              "      <td>30.09</td>\n",
              "      <td>76.20</td>\n",
              "      <td>1006.64</td>\n",
              "      <td>61.02</td>\n",
              "      <td>46.11</td>\n",
              "      <td>930.44</td>\n",
              "      <td>0.189580</td>\n",
              "    </tr>\n",
              "    <tr>\n",
              "      <th>12455</th>\n",
              "      <td>21.98</td>\n",
              "      <td>55.50</td>\n",
              "      <td>1017.89</td>\n",
              "      <td>57.90</td>\n",
              "      <td>33.52</td>\n",
              "      <td>962.39</td>\n",
              "      <td>0.374862</td>\n",
              "    </tr>\n",
              "    <tr>\n",
              "      <th>17299</th>\n",
              "      <td>23.73</td>\n",
              "      <td>59.15</td>\n",
              "      <td>1014.08</td>\n",
              "      <td>62.65</td>\n",
              "      <td>35.42</td>\n",
              "      <td>954.93</td>\n",
              "      <td>0.316373</td>\n",
              "    </tr>\n",
              "    <tr>\n",
              "      <th>8332</th>\n",
              "      <td>16.38</td>\n",
              "      <td>55.50</td>\n",
              "      <td>1019.80</td>\n",
              "      <td>82.44</td>\n",
              "      <td>39.12</td>\n",
              "      <td>964.30</td>\n",
              "      <td>0.511039</td>\n",
              "    </tr>\n",
              "    <tr>\n",
              "      <th>...</th>\n",
              "      <td>...</td>\n",
              "      <td>...</td>\n",
              "      <td>...</td>\n",
              "      <td>...</td>\n",
              "      <td>...</td>\n",
              "      <td>...</td>\n",
              "      <td>...</td>\n",
              "    </tr>\n",
              "    <tr>\n",
              "      <th>10916</th>\n",
              "      <td>12.95</td>\n",
              "      <td>40.10</td>\n",
              "      <td>1015.31</td>\n",
              "      <td>86.01</td>\n",
              "      <td>27.15</td>\n",
              "      <td>975.21</td>\n",
              "      <td>0.907134</td>\n",
              "    </tr>\n",
              "    <tr>\n",
              "      <th>9885</th>\n",
              "      <td>20.95</td>\n",
              "      <td>44.89</td>\n",
              "      <td>1010.48</td>\n",
              "      <td>67.97</td>\n",
              "      <td>23.94</td>\n",
              "      <td>965.59</td>\n",
              "      <td>0.478911</td>\n",
              "    </tr>\n",
              "    <tr>\n",
              "      <th>10258</th>\n",
              "      <td>26.53</td>\n",
              "      <td>60.07</td>\n",
              "      <td>1016.55</td>\n",
              "      <td>54.79</td>\n",
              "      <td>33.54</td>\n",
              "      <td>956.48</td>\n",
              "      <td>0.275178</td>\n",
              "    </tr>\n",
              "    <tr>\n",
              "      <th>1602</th>\n",
              "      <td>24.88</td>\n",
              "      <td>63.31</td>\n",
              "      <td>1014.23</td>\n",
              "      <td>55.76</td>\n",
              "      <td>38.43</td>\n",
              "      <td>950.92</td>\n",
              "      <td>0.280316</td>\n",
              "    </tr>\n",
              "    <tr>\n",
              "      <th>13873</th>\n",
              "      <td>20.86</td>\n",
              "      <td>67.25</td>\n",
              "      <td>1017.45</td>\n",
              "      <td>81.45</td>\n",
              "      <td>46.39</td>\n",
              "      <td>950.20</td>\n",
              "      <td>0.316858</td>\n",
              "    </tr>\n",
              "  </tbody>\n",
              "</table>\n",
              "<p>8555 rows × 7 columns</p>\n",
              "</div>\n",
              "      <button class=\"colab-df-convert\" onclick=\"convertToInteractive('df-1b236364-b9cf-428a-86f6-d7fcd01ca299')\"\n",
              "              title=\"Convert this dataframe to an interactive table.\"\n",
              "              style=\"display:none;\">\n",
              "        \n",
              "  <svg xmlns=\"http://www.w3.org/2000/svg\" height=\"24px\"viewBox=\"0 0 24 24\"\n",
              "       width=\"24px\">\n",
              "    <path d=\"M0 0h24v24H0V0z\" fill=\"none\"/>\n",
              "    <path d=\"M18.56 5.44l.94 2.06.94-2.06 2.06-.94-2.06-.94-.94-2.06-.94 2.06-2.06.94zm-11 1L8.5 8.5l.94-2.06 2.06-.94-2.06-.94L8.5 2.5l-.94 2.06-2.06.94zm10 10l.94 2.06.94-2.06 2.06-.94-2.06-.94-.94-2.06-.94 2.06-2.06.94z\"/><path d=\"M17.41 7.96l-1.37-1.37c-.4-.4-.92-.59-1.43-.59-.52 0-1.04.2-1.43.59L10.3 9.45l-7.72 7.72c-.78.78-.78 2.05 0 2.83L4 21.41c.39.39.9.59 1.41.59.51 0 1.02-.2 1.41-.59l7.78-7.78 2.81-2.81c.8-.78.8-2.07 0-2.86zM5.41 20L4 18.59l7.72-7.72 1.47 1.35L5.41 20z\"/>\n",
              "  </svg>\n",
              "      </button>\n",
              "      \n",
              "  <style>\n",
              "    .colab-df-container {\n",
              "      display:flex;\n",
              "      flex-wrap:wrap;\n",
              "      gap: 12px;\n",
              "    }\n",
              "\n",
              "    .colab-df-convert {\n",
              "      background-color: #E8F0FE;\n",
              "      border: none;\n",
              "      border-radius: 50%;\n",
              "      cursor: pointer;\n",
              "      display: none;\n",
              "      fill: #1967D2;\n",
              "      height: 32px;\n",
              "      padding: 0 0 0 0;\n",
              "      width: 32px;\n",
              "    }\n",
              "\n",
              "    .colab-df-convert:hover {\n",
              "      background-color: #E2EBFA;\n",
              "      box-shadow: 0px 1px 2px rgba(60, 64, 67, 0.3), 0px 1px 3px 1px rgba(60, 64, 67, 0.15);\n",
              "      fill: #174EA6;\n",
              "    }\n",
              "\n",
              "    [theme=dark] .colab-df-convert {\n",
              "      background-color: #3B4455;\n",
              "      fill: #D2E3FC;\n",
              "    }\n",
              "\n",
              "    [theme=dark] .colab-df-convert:hover {\n",
              "      background-color: #434B5C;\n",
              "      box-shadow: 0px 1px 3px 1px rgba(0, 0, 0, 0.15);\n",
              "      filter: drop-shadow(0px 1px 2px rgba(0, 0, 0, 0.3));\n",
              "      fill: #FFFFFF;\n",
              "    }\n",
              "  </style>\n",
              "\n",
              "      <script>\n",
              "        const buttonEl =\n",
              "          document.querySelector('#df-1b236364-b9cf-428a-86f6-d7fcd01ca299 button.colab-df-convert');\n",
              "        buttonEl.style.display =\n",
              "          google.colab.kernel.accessAllowed ? 'block' : 'none';\n",
              "\n",
              "        async function convertToInteractive(key) {\n",
              "          const element = document.querySelector('#df-1b236364-b9cf-428a-86f6-d7fcd01ca299');\n",
              "          const dataTable =\n",
              "            await google.colab.kernel.invokeFunction('convertToInteractive',\n",
              "                                                     [key], {});\n",
              "          if (!dataTable) return;\n",
              "\n",
              "          const docLinkHtml = 'Like what you see? Visit the ' +\n",
              "            '<a target=\"_blank\" href=https://colab.research.google.com/notebooks/data_table.ipynb>data table notebook</a>'\n",
              "            + ' to learn more about interactive tables.';\n",
              "          element.innerHTML = '';\n",
              "          dataTable['output_type'] = 'display_data';\n",
              "          await google.colab.output.renderOutput(dataTable, element);\n",
              "          const docLink = document.createElement('div');\n",
              "          docLink.innerHTML = docLinkHtml;\n",
              "          element.appendChild(docLink);\n",
              "        }\n",
              "      </script>\n",
              "    </div>\n",
              "  </div>\n",
              "  "
            ]
          },
          "metadata": {},
          "execution_count": 35
        }
      ]
    },
    {
      "cell_type": "markdown",
      "source": [
        "### Scaling\n",
        "\n",
        "Feature scaling is a method used to normalize the range of independent variables or features of data. In data processing, it is also known as data normalization"
      ],
      "metadata": {
        "id": "gfvgvSaN1lO5"
      }
    },
    {
      "cell_type": "code",
      "source": [
        "from sklearn.preprocessing import StandardScaler\n",
        "std=StandardScaler()\n",
        "x_train_scale=std.fit_transform(x_train)\n",
        "x_test_scale=std.transform(x_test)"
      ],
      "metadata": {
        "id": "GVoV1wqR1kxX"
      },
      "execution_count": 36,
      "outputs": []
    },
    {
      "cell_type": "code",
      "source": [
        "x_train.iloc[0]"
      ],
      "metadata": {
        "colab": {
          "base_uri": "https://localhost:8080/"
        },
        "id": "AWU2Lzjk2Hqr",
        "outputId": "7b28c25c-16b2-428d-8caf-09d888d72268"
      },
      "execution_count": 39,
      "outputs": [
        {
          "output_type": "execute_result",
          "data": {
            "text/plain": [
              "Temp               7.570000\n",
              "Vacuum            37.490000\n",
              "Pressure        1009.730000\n",
              "Humidity          83.070000\n",
              "TempDiff          29.920000\n",
              "PressureDiff     972.240000\n",
              "PowerPerFuel       1.698313\n",
              "Name: 4014, dtype: float64"
            ]
          },
          "metadata": {},
          "execution_count": 39
        }
      ]
    },
    {
      "cell_type": "code",
      "source": [
        "x_train_scale[0],x_test_scale[0],y_train,y_test"
      ],
      "metadata": {
        "colab": {
          "base_uri": "https://localhost:8080/"
        },
        "id": "JCBOD0Dn2S8y",
        "outputId": "e21e5b88-d56b-4540-e09c-510467023f44"
      },
      "execution_count": 44,
      "outputs": [
        {
          "output_type": "execute_result",
          "data": {
            "text/plain": [
              "(array([-1.60762084, -1.32902958, -0.58373942,  0.65248803, -0.64427217,\n",
              "         0.82900208,  2.08457825]),\n",
              " array([ 0.30478749,  0.46520067,  0.47619404,  1.15852457,  0.48095068,\n",
              "        -0.1896364 , -0.55585996]),\n",
              " 4014     481.98\n",
              " 17275    434.68\n",
              " 12455    457.29\n",
              " 17299    444.07\n",
              " 8332     464.58\n",
              "           ...  \n",
              " 10916    471.07\n",
              " 9885     450.39\n",
              " 10258    438.54\n",
              " 1602     441.54\n",
              " 13873    444.50\n",
              " Name: Energy, Length: 8555, dtype: float64,\n",
              " 6691     446.31\n",
              " 2756     459.00\n",
              " 17150    431.65\n",
              " 5113     435.79\n",
              " 64       448.76\n",
              "           ...  \n",
              " 13072    438.73\n",
              " 18507    480.56\n",
              " 12208    458.28\n",
              " 7655     470.81\n",
              " 13720    443.50\n",
              " Name: Energy, Length: 1510, dtype: float64)"
            ]
          },
          "metadata": {},
          "execution_count": 44
        }
      ]
    },
    {
      "cell_type": "markdown",
      "source": [
        "### Linear Regression"
      ],
      "metadata": {
        "id": "Yl4NOUmx27oR"
      }
    },
    {
      "cell_type": "code",
      "source": [
        "# Linear Regression\n",
        "from sklearn.linear_model import LinearRegression\n",
        "from sklearn.model_selection import GridSearchCV\n",
        "\n",
        "param_grid = {'fit_intercept': [True, False], 'copy_X': [True, False], 'positive': [True, False]}\n",
        "grid = GridSearchCV(LinearRegression(), param_grid, cv = 5, verbose = 2)\n",
        "grid.fit(x_train, y_train)"
      ],
      "metadata": {
        "colab": {
          "base_uri": "https://localhost:8080/",
          "height": 866
        },
        "id": "B1p25JPN2mLE",
        "outputId": "8a979bd1-e2c7-42c8-be27-7c10873ae2ba"
      },
      "execution_count": 49,
      "outputs": [
        {
          "output_type": "stream",
          "name": "stdout",
          "text": [
            "Fitting 5 folds for each of 8 candidates, totalling 40 fits\n",
            "[CV] END .....copy_X=True, fit_intercept=True, positive=True; total time=   0.1s\n",
            "[CV] END .....copy_X=True, fit_intercept=True, positive=True; total time=   0.1s\n",
            "[CV] END .....copy_X=True, fit_intercept=True, positive=True; total time=   0.1s\n",
            "[CV] END .....copy_X=True, fit_intercept=True, positive=True; total time=   0.1s\n",
            "[CV] END .....copy_X=True, fit_intercept=True, positive=True; total time=   0.0s\n",
            "[CV] END ....copy_X=True, fit_intercept=True, positive=False; total time=   0.1s\n",
            "[CV] END ....copy_X=True, fit_intercept=True, positive=False; total time=   0.1s\n",
            "[CV] END ....copy_X=True, fit_intercept=True, positive=False; total time=   0.1s\n",
            "[CV] END ....copy_X=True, fit_intercept=True, positive=False; total time=   0.0s\n",
            "[CV] END ....copy_X=True, fit_intercept=True, positive=False; total time=   0.0s\n",
            "[CV] END ....copy_X=True, fit_intercept=False, positive=True; total time=   0.1s\n",
            "[CV] END ....copy_X=True, fit_intercept=False, positive=True; total time=   0.1s\n",
            "[CV] END ....copy_X=True, fit_intercept=False, positive=True; total time=   0.0s\n",
            "[CV] END ....copy_X=True, fit_intercept=False, positive=True; total time=   0.0s\n",
            "[CV] END ....copy_X=True, fit_intercept=False, positive=True; total time=   0.0s\n",
            "[CV] END ...copy_X=True, fit_intercept=False, positive=False; total time=   0.0s\n",
            "[CV] END ...copy_X=True, fit_intercept=False, positive=False; total time=   0.0s\n",
            "[CV] END ...copy_X=True, fit_intercept=False, positive=False; total time=   0.0s\n",
            "[CV] END ...copy_X=True, fit_intercept=False, positive=False; total time=   0.0s\n",
            "[CV] END ...copy_X=True, fit_intercept=False, positive=False; total time=   0.0s\n",
            "[CV] END ....copy_X=False, fit_intercept=True, positive=True; total time=   0.0s\n",
            "[CV] END ....copy_X=False, fit_intercept=True, positive=True; total time=   0.0s\n",
            "[CV] END ....copy_X=False, fit_intercept=True, positive=True; total time=   0.0s\n",
            "[CV] END ....copy_X=False, fit_intercept=True, positive=True; total time=   0.0s\n",
            "[CV] END ....copy_X=False, fit_intercept=True, positive=True; total time=   0.0s\n",
            "[CV] END ...copy_X=False, fit_intercept=True, positive=False; total time=   0.0s\n",
            "[CV] END ...copy_X=False, fit_intercept=True, positive=False; total time=   0.0s\n",
            "[CV] END ...copy_X=False, fit_intercept=True, positive=False; total time=   0.0s\n",
            "[CV] END ...copy_X=False, fit_intercept=True, positive=False; total time=   0.0s\n",
            "[CV] END ...copy_X=False, fit_intercept=True, positive=False; total time=   0.0s\n",
            "[CV] END ...copy_X=False, fit_intercept=False, positive=True; total time=   0.0s\n",
            "[CV] END ...copy_X=False, fit_intercept=False, positive=True; total time=   0.0s\n",
            "[CV] END ...copy_X=False, fit_intercept=False, positive=True; total time=   0.0s\n",
            "[CV] END ...copy_X=False, fit_intercept=False, positive=True; total time=   0.0s\n",
            "[CV] END ...copy_X=False, fit_intercept=False, positive=True; total time=   0.0s\n",
            "[CV] END ..copy_X=False, fit_intercept=False, positive=False; total time=   0.0s\n",
            "[CV] END ..copy_X=False, fit_intercept=False, positive=False; total time=   0.0s\n",
            "[CV] END ..copy_X=False, fit_intercept=False, positive=False; total time=   0.0s\n",
            "[CV] END ..copy_X=False, fit_intercept=False, positive=False; total time=   0.0s\n",
            "[CV] END ..copy_X=False, fit_intercept=False, positive=False; total time=   0.0s\n"
          ]
        },
        {
          "output_type": "execute_result",
          "data": {
            "text/plain": [
              "GridSearchCV(cv=5, estimator=LinearRegression(),\n",
              "             param_grid={'copy_X': [True, False],\n",
              "                         'fit_intercept': [True, False],\n",
              "                         'positive': [True, False]},\n",
              "             verbose=2)"
            ],
            "text/html": [
              "<style>#sk-container-id-2 {color: black;background-color: white;}#sk-container-id-2 pre{padding: 0;}#sk-container-id-2 div.sk-toggleable {background-color: white;}#sk-container-id-2 label.sk-toggleable__label {cursor: pointer;display: block;width: 100%;margin-bottom: 0;padding: 0.3em;box-sizing: border-box;text-align: center;}#sk-container-id-2 label.sk-toggleable__label-arrow:before {content: \"▸\";float: left;margin-right: 0.25em;color: #696969;}#sk-container-id-2 label.sk-toggleable__label-arrow:hover:before {color: black;}#sk-container-id-2 div.sk-estimator:hover label.sk-toggleable__label-arrow:before {color: black;}#sk-container-id-2 div.sk-toggleable__content {max-height: 0;max-width: 0;overflow: hidden;text-align: left;background-color: #f0f8ff;}#sk-container-id-2 div.sk-toggleable__content pre {margin: 0.2em;color: black;border-radius: 0.25em;background-color: #f0f8ff;}#sk-container-id-2 input.sk-toggleable__control:checked~div.sk-toggleable__content {max-height: 200px;max-width: 100%;overflow: auto;}#sk-container-id-2 input.sk-toggleable__control:checked~label.sk-toggleable__label-arrow:before {content: \"▾\";}#sk-container-id-2 div.sk-estimator input.sk-toggleable__control:checked~label.sk-toggleable__label {background-color: #d4ebff;}#sk-container-id-2 div.sk-label input.sk-toggleable__control:checked~label.sk-toggleable__label {background-color: #d4ebff;}#sk-container-id-2 input.sk-hidden--visually {border: 0;clip: rect(1px 1px 1px 1px);clip: rect(1px, 1px, 1px, 1px);height: 1px;margin: -1px;overflow: hidden;padding: 0;position: absolute;width: 1px;}#sk-container-id-2 div.sk-estimator {font-family: monospace;background-color: #f0f8ff;border: 1px dotted black;border-radius: 0.25em;box-sizing: border-box;margin-bottom: 0.5em;}#sk-container-id-2 div.sk-estimator:hover {background-color: #d4ebff;}#sk-container-id-2 div.sk-parallel-item::after {content: \"\";width: 100%;border-bottom: 1px solid gray;flex-grow: 1;}#sk-container-id-2 div.sk-label:hover label.sk-toggleable__label {background-color: #d4ebff;}#sk-container-id-2 div.sk-serial::before {content: \"\";position: absolute;border-left: 1px solid gray;box-sizing: border-box;top: 0;bottom: 0;left: 50%;z-index: 0;}#sk-container-id-2 div.sk-serial {display: flex;flex-direction: column;align-items: center;background-color: white;padding-right: 0.2em;padding-left: 0.2em;position: relative;}#sk-container-id-2 div.sk-item {position: relative;z-index: 1;}#sk-container-id-2 div.sk-parallel {display: flex;align-items: stretch;justify-content: center;background-color: white;position: relative;}#sk-container-id-2 div.sk-item::before, #sk-container-id-2 div.sk-parallel-item::before {content: \"\";position: absolute;border-left: 1px solid gray;box-sizing: border-box;top: 0;bottom: 0;left: 50%;z-index: -1;}#sk-container-id-2 div.sk-parallel-item {display: flex;flex-direction: column;z-index: 1;position: relative;background-color: white;}#sk-container-id-2 div.sk-parallel-item:first-child::after {align-self: flex-end;width: 50%;}#sk-container-id-2 div.sk-parallel-item:last-child::after {align-self: flex-start;width: 50%;}#sk-container-id-2 div.sk-parallel-item:only-child::after {width: 0;}#sk-container-id-2 div.sk-dashed-wrapped {border: 1px dashed gray;margin: 0 0.4em 0.5em 0.4em;box-sizing: border-box;padding-bottom: 0.4em;background-color: white;}#sk-container-id-2 div.sk-label label {font-family: monospace;font-weight: bold;display: inline-block;line-height: 1.2em;}#sk-container-id-2 div.sk-label-container {text-align: center;}#sk-container-id-2 div.sk-container {/* jupyter's `normalize.less` sets `[hidden] { display: none; }` but bootstrap.min.css set `[hidden] { display: none !important; }` so we also need the `!important` here to be able to override the default hidden behavior on the sphinx rendered scikit-learn.org. See: https://github.com/scikit-learn/scikit-learn/issues/21755 */display: inline-block !important;position: relative;}#sk-container-id-2 div.sk-text-repr-fallback {display: none;}</style><div id=\"sk-container-id-2\" class=\"sk-top-container\"><div class=\"sk-text-repr-fallback\"><pre>GridSearchCV(cv=5, estimator=LinearRegression(),\n",
              "             param_grid={&#x27;copy_X&#x27;: [True, False],\n",
              "                         &#x27;fit_intercept&#x27;: [True, False],\n",
              "                         &#x27;positive&#x27;: [True, False]},\n",
              "             verbose=2)</pre><b>In a Jupyter environment, please rerun this cell to show the HTML representation or trust the notebook. <br />On GitHub, the HTML representation is unable to render, please try loading this page with nbviewer.org.</b></div><div class=\"sk-container\" hidden><div class=\"sk-item sk-dashed-wrapped\"><div class=\"sk-label-container\"><div class=\"sk-label sk-toggleable\"><input class=\"sk-toggleable__control sk-hidden--visually\" id=\"sk-estimator-id-4\" type=\"checkbox\" ><label for=\"sk-estimator-id-4\" class=\"sk-toggleable__label sk-toggleable__label-arrow\">GridSearchCV</label><div class=\"sk-toggleable__content\"><pre>GridSearchCV(cv=5, estimator=LinearRegression(),\n",
              "             param_grid={&#x27;copy_X&#x27;: [True, False],\n",
              "                         &#x27;fit_intercept&#x27;: [True, False],\n",
              "                         &#x27;positive&#x27;: [True, False]},\n",
              "             verbose=2)</pre></div></div></div><div class=\"sk-parallel\"><div class=\"sk-parallel-item\"><div class=\"sk-item\"><div class=\"sk-label-container\"><div class=\"sk-label sk-toggleable\"><input class=\"sk-toggleable__control sk-hidden--visually\" id=\"sk-estimator-id-5\" type=\"checkbox\" ><label for=\"sk-estimator-id-5\" class=\"sk-toggleable__label sk-toggleable__label-arrow\">estimator: LinearRegression</label><div class=\"sk-toggleable__content\"><pre>LinearRegression()</pre></div></div></div><div class=\"sk-serial\"><div class=\"sk-item\"><div class=\"sk-estimator sk-toggleable\"><input class=\"sk-toggleable__control sk-hidden--visually\" id=\"sk-estimator-id-6\" type=\"checkbox\" ><label for=\"sk-estimator-id-6\" class=\"sk-toggleable__label sk-toggleable__label-arrow\">LinearRegression</label><div class=\"sk-toggleable__content\"><pre>LinearRegression()</pre></div></div></div></div></div></div></div></div></div></div>"
            ]
          },
          "metadata": {},
          "execution_count": 49
        }
      ]
    },
    {
      "cell_type": "code",
      "source": [
        "grid.best_params_"
      ],
      "metadata": {
        "colab": {
          "base_uri": "https://localhost:8080/"
        },
        "id": "vDTgyUuh3H25",
        "outputId": "647a7fc8-b755-4e0f-f447-28ae03c8b7b9"
      },
      "execution_count": 50,
      "outputs": [
        {
          "output_type": "execute_result",
          "data": {
            "text/plain": [
              "{'copy_X': True, 'fit_intercept': True, 'positive': False}"
            ]
          },
          "metadata": {},
          "execution_count": 50
        }
      ]
    },
    {
      "cell_type": "code",
      "source": [
        "y_pred = grid.predict(x_test)"
      ],
      "metadata": {
        "id": "4KK9K0vL3JgV"
      },
      "execution_count": 51,
      "outputs": []
    },
    {
      "cell_type": "code",
      "source": [
        "# evaluation metrics\n",
        "\n",
        "from sklearn.metrics import mean_squared_error, mean_absolute_error, r2_score\n",
        "\n",
        "print('Mean squared error: ', mean_squared_error(y_test, y_pred))\n",
        "print('Mean absolute error: ', mean_absolute_error(y_test, y_pred))\n",
        "print('R2 Score: ', r2_score(y_test, y_pred))"
      ],
      "metadata": {
        "colab": {
          "base_uri": "https://localhost:8080/"
        },
        "id": "LHne7pAL3YK3",
        "outputId": "b0c31f63-ca62-4a09-e98a-7ac4437f281e"
      },
      "execution_count": 52,
      "outputs": [
        {
          "output_type": "stream",
          "name": "stdout",
          "text": [
            "Mean squared error:  21.311868681067615\n",
            "Mean absolute error:  3.531976621544035\n",
            "R2 Score:  0.92648339749949\n"
          ]
        }
      ]
    },
    {
      "cell_type": "markdown",
      "source": [
        "### Decision Tree Classifier"
      ],
      "metadata": {
        "id": "yv4vRiif3eHJ"
      }
    },
    {
      "cell_type": "code",
      "source": [
        "# Implementing decision tree\n",
        "\n",
        "from sklearn.tree import DecisionTreeRegressor\n",
        "\n",
        "param_grid = {'max_depth': [5, 10, 20, 50]}\n",
        "\n",
        "grid_dtc= GridSearchCV(DecisionTreeRegressor(), param_grid, cv=5, verbose = 2)\n",
        "\n",
        "grid_dtc.fit(x_train, y_train)"
      ],
      "metadata": {
        "colab": {
          "base_uri": "https://localhost:8080/",
          "height": 501
        },
        "id": "wlAjzfwD3i-N",
        "outputId": "71f1d242-795a-4997-ab49-2480ab526e01"
      },
      "execution_count": 66,
      "outputs": [
        {
          "output_type": "stream",
          "name": "stdout",
          "text": [
            "Fitting 5 folds for each of 4 candidates, totalling 20 fits\n",
            "[CV] END ........................................max_depth=5; total time=   0.0s\n",
            "[CV] END ........................................max_depth=5; total time=   0.0s\n",
            "[CV] END ........................................max_depth=5; total time=   0.0s\n",
            "[CV] END ........................................max_depth=5; total time=   0.0s\n",
            "[CV] END ........................................max_depth=5; total time=   0.0s\n",
            "[CV] END .......................................max_depth=10; total time=   0.1s\n",
            "[CV] END .......................................max_depth=10; total time=   0.1s\n",
            "[CV] END .......................................max_depth=10; total time=   0.1s\n",
            "[CV] END .......................................max_depth=10; total time=   0.1s\n",
            "[CV] END .......................................max_depth=10; total time=   0.1s\n",
            "[CV] END .......................................max_depth=20; total time=   0.1s\n",
            "[CV] END .......................................max_depth=20; total time=   0.1s\n",
            "[CV] END .......................................max_depth=20; total time=   0.1s\n",
            "[CV] END .......................................max_depth=20; total time=   0.1s\n",
            "[CV] END .......................................max_depth=20; total time=   0.1s\n",
            "[CV] END .......................................max_depth=50; total time=   0.1s\n",
            "[CV] END .......................................max_depth=50; total time=   0.1s\n",
            "[CV] END .......................................max_depth=50; total time=   0.1s\n",
            "[CV] END .......................................max_depth=50; total time=   0.1s\n",
            "[CV] END .......................................max_depth=50; total time=   0.1s\n"
          ]
        },
        {
          "output_type": "execute_result",
          "data": {
            "text/plain": [
              "GridSearchCV(cv=5, estimator=DecisionTreeRegressor(),\n",
              "             param_grid={'max_depth': [5, 10, 20, 50]}, verbose=2)"
            ],
            "text/html": [
              "<style>#sk-container-id-6 {color: black;background-color: white;}#sk-container-id-6 pre{padding: 0;}#sk-container-id-6 div.sk-toggleable {background-color: white;}#sk-container-id-6 label.sk-toggleable__label {cursor: pointer;display: block;width: 100%;margin-bottom: 0;padding: 0.3em;box-sizing: border-box;text-align: center;}#sk-container-id-6 label.sk-toggleable__label-arrow:before {content: \"▸\";float: left;margin-right: 0.25em;color: #696969;}#sk-container-id-6 label.sk-toggleable__label-arrow:hover:before {color: black;}#sk-container-id-6 div.sk-estimator:hover label.sk-toggleable__label-arrow:before {color: black;}#sk-container-id-6 div.sk-toggleable__content {max-height: 0;max-width: 0;overflow: hidden;text-align: left;background-color: #f0f8ff;}#sk-container-id-6 div.sk-toggleable__content pre {margin: 0.2em;color: black;border-radius: 0.25em;background-color: #f0f8ff;}#sk-container-id-6 input.sk-toggleable__control:checked~div.sk-toggleable__content {max-height: 200px;max-width: 100%;overflow: auto;}#sk-container-id-6 input.sk-toggleable__control:checked~label.sk-toggleable__label-arrow:before {content: \"▾\";}#sk-container-id-6 div.sk-estimator input.sk-toggleable__control:checked~label.sk-toggleable__label {background-color: #d4ebff;}#sk-container-id-6 div.sk-label input.sk-toggleable__control:checked~label.sk-toggleable__label {background-color: #d4ebff;}#sk-container-id-6 input.sk-hidden--visually {border: 0;clip: rect(1px 1px 1px 1px);clip: rect(1px, 1px, 1px, 1px);height: 1px;margin: -1px;overflow: hidden;padding: 0;position: absolute;width: 1px;}#sk-container-id-6 div.sk-estimator {font-family: monospace;background-color: #f0f8ff;border: 1px dotted black;border-radius: 0.25em;box-sizing: border-box;margin-bottom: 0.5em;}#sk-container-id-6 div.sk-estimator:hover {background-color: #d4ebff;}#sk-container-id-6 div.sk-parallel-item::after {content: \"\";width: 100%;border-bottom: 1px solid gray;flex-grow: 1;}#sk-container-id-6 div.sk-label:hover label.sk-toggleable__label {background-color: #d4ebff;}#sk-container-id-6 div.sk-serial::before {content: \"\";position: absolute;border-left: 1px solid gray;box-sizing: border-box;top: 0;bottom: 0;left: 50%;z-index: 0;}#sk-container-id-6 div.sk-serial {display: flex;flex-direction: column;align-items: center;background-color: white;padding-right: 0.2em;padding-left: 0.2em;position: relative;}#sk-container-id-6 div.sk-item {position: relative;z-index: 1;}#sk-container-id-6 div.sk-parallel {display: flex;align-items: stretch;justify-content: center;background-color: white;position: relative;}#sk-container-id-6 div.sk-item::before, #sk-container-id-6 div.sk-parallel-item::before {content: \"\";position: absolute;border-left: 1px solid gray;box-sizing: border-box;top: 0;bottom: 0;left: 50%;z-index: -1;}#sk-container-id-6 div.sk-parallel-item {display: flex;flex-direction: column;z-index: 1;position: relative;background-color: white;}#sk-container-id-6 div.sk-parallel-item:first-child::after {align-self: flex-end;width: 50%;}#sk-container-id-6 div.sk-parallel-item:last-child::after {align-self: flex-start;width: 50%;}#sk-container-id-6 div.sk-parallel-item:only-child::after {width: 0;}#sk-container-id-6 div.sk-dashed-wrapped {border: 1px dashed gray;margin: 0 0.4em 0.5em 0.4em;box-sizing: border-box;padding-bottom: 0.4em;background-color: white;}#sk-container-id-6 div.sk-label label {font-family: monospace;font-weight: bold;display: inline-block;line-height: 1.2em;}#sk-container-id-6 div.sk-label-container {text-align: center;}#sk-container-id-6 div.sk-container {/* jupyter's `normalize.less` sets `[hidden] { display: none; }` but bootstrap.min.css set `[hidden] { display: none !important; }` so we also need the `!important` here to be able to override the default hidden behavior on the sphinx rendered scikit-learn.org. See: https://github.com/scikit-learn/scikit-learn/issues/21755 */display: inline-block !important;position: relative;}#sk-container-id-6 div.sk-text-repr-fallback {display: none;}</style><div id=\"sk-container-id-6\" class=\"sk-top-container\"><div class=\"sk-text-repr-fallback\"><pre>GridSearchCV(cv=5, estimator=DecisionTreeRegressor(),\n",
              "             param_grid={&#x27;max_depth&#x27;: [5, 10, 20, 50]}, verbose=2)</pre><b>In a Jupyter environment, please rerun this cell to show the HTML representation or trust the notebook. <br />On GitHub, the HTML representation is unable to render, please try loading this page with nbviewer.org.</b></div><div class=\"sk-container\" hidden><div class=\"sk-item sk-dashed-wrapped\"><div class=\"sk-label-container\"><div class=\"sk-label sk-toggleable\"><input class=\"sk-toggleable__control sk-hidden--visually\" id=\"sk-estimator-id-16\" type=\"checkbox\" ><label for=\"sk-estimator-id-16\" class=\"sk-toggleable__label sk-toggleable__label-arrow\">GridSearchCV</label><div class=\"sk-toggleable__content\"><pre>GridSearchCV(cv=5, estimator=DecisionTreeRegressor(),\n",
              "             param_grid={&#x27;max_depth&#x27;: [5, 10, 20, 50]}, verbose=2)</pre></div></div></div><div class=\"sk-parallel\"><div class=\"sk-parallel-item\"><div class=\"sk-item\"><div class=\"sk-label-container\"><div class=\"sk-label sk-toggleable\"><input class=\"sk-toggleable__control sk-hidden--visually\" id=\"sk-estimator-id-17\" type=\"checkbox\" ><label for=\"sk-estimator-id-17\" class=\"sk-toggleable__label sk-toggleable__label-arrow\">estimator: DecisionTreeRegressor</label><div class=\"sk-toggleable__content\"><pre>DecisionTreeRegressor()</pre></div></div></div><div class=\"sk-serial\"><div class=\"sk-item\"><div class=\"sk-estimator sk-toggleable\"><input class=\"sk-toggleable__control sk-hidden--visually\" id=\"sk-estimator-id-18\" type=\"checkbox\" ><label for=\"sk-estimator-id-18\" class=\"sk-toggleable__label sk-toggleable__label-arrow\">DecisionTreeRegressor</label><div class=\"sk-toggleable__content\"><pre>DecisionTreeRegressor()</pre></div></div></div></div></div></div></div></div></div></div>"
            ]
          },
          "metadata": {},
          "execution_count": 66
        }
      ]
    },
    {
      "cell_type": "code",
      "source": [
        "grid_dtc.best_params_"
      ],
      "metadata": {
        "colab": {
          "base_uri": "https://localhost:8080/"
        },
        "id": "xPiLNqtB3s8B",
        "outputId": "af64d1d0-88ac-4c7c-c313-ae885f2c434a"
      },
      "execution_count": 67,
      "outputs": [
        {
          "output_type": "execute_result",
          "data": {
            "text/plain": [
              "{'max_depth': 20}"
            ]
          },
          "metadata": {},
          "execution_count": 67
        }
      ]
    },
    {
      "cell_type": "code",
      "source": [
        "# predicting the model\n",
        "y_pred = grid_dtc.predict(x_test)"
      ],
      "metadata": {
        "id": "8F7u3OvM3vam"
      },
      "execution_count": 68,
      "outputs": []
    },
    {
      "cell_type": "code",
      "source": [
        "print('Mean squared error: ', mean_squared_error(y_test, y_pred))\n",
        "print('Mean absolute error: ', mean_absolute_error(y_test, y_pred))\n",
        "print('R2 Score: ', r2_score(y_test, y_pred))"
      ],
      "metadata": {
        "colab": {
          "base_uri": "https://localhost:8080/"
        },
        "id": "Q3ZL-AdV35At",
        "outputId": "dd09d23a-f5bd-4cd7-84e6-ee1da9c72cbb"
      },
      "execution_count": 69,
      "outputs": [
        {
          "output_type": "stream",
          "name": "stdout",
          "text": [
            "Mean squared error:  0.3308079374586093\n",
            "Mean absolute error:  0.08269486754966923\n",
            "R2 Score:  0.9988588576625492\n"
          ]
        }
      ]
    },
    {
      "cell_type": "markdown",
      "source": [
        "### Random Forest Regressior"
      ],
      "metadata": {
        "id": "4VnChTUo3_6g"
      }
    },
    {
      "cell_type": "code",
      "source": [
        "# Random Forest Regressor\n",
        "\n",
        "from sklearn.ensemble import RandomForestRegressor\n",
        "param_grid = {'n_estimators': [10, 50, 100, 500], 'max_depth': [ 5, 10, 20, 50]}\n",
        "grid = GridSearchCV(RandomForestRegressor(), param_grid, cv=5, verbose = 2)\n",
        "grid.fit(x_train, y_train)"
      ],
      "metadata": {
        "colab": {
          "base_uri": "https://localhost:8080/",
          "height": 1000
        },
        "id": "ZmZkGlT74Es-",
        "outputId": "b5136db6-30e4-454d-db45-f7f4feb53030"
      },
      "execution_count": 57,
      "outputs": [
        {
          "output_type": "stream",
          "name": "stdout",
          "text": [
            "Fitting 5 folds for each of 16 candidates, totalling 80 fits\n",
            "[CV] END .......................max_depth=5, n_estimators=10; total time=   0.2s\n",
            "[CV] END .......................max_depth=5, n_estimators=10; total time=   0.3s\n",
            "[CV] END .......................max_depth=5, n_estimators=10; total time=   0.3s\n",
            "[CV] END .......................max_depth=5, n_estimators=10; total time=   0.3s\n",
            "[CV] END .......................max_depth=5, n_estimators=10; total time=   0.2s\n",
            "[CV] END .......................max_depth=5, n_estimators=50; total time=   0.8s\n",
            "[CV] END .......................max_depth=5, n_estimators=50; total time=   1.2s\n",
            "[CV] END .......................max_depth=5, n_estimators=50; total time=   1.2s\n",
            "[CV] END .......................max_depth=5, n_estimators=50; total time=   1.0s\n",
            "[CV] END .......................max_depth=5, n_estimators=50; total time=   0.8s\n",
            "[CV] END ......................max_depth=5, n_estimators=100; total time=   1.9s\n",
            "[CV] END ......................max_depth=5, n_estimators=100; total time=   1.6s\n",
            "[CV] END ......................max_depth=5, n_estimators=100; total time=   1.6s\n",
            "[CV] END ......................max_depth=5, n_estimators=100; total time=   1.9s\n",
            "[CV] END ......................max_depth=5, n_estimators=100; total time=   2.3s\n",
            "[CV] END ......................max_depth=5, n_estimators=500; total time=   8.9s\n",
            "[CV] END ......................max_depth=5, n_estimators=500; total time=   9.6s\n",
            "[CV] END ......................max_depth=5, n_estimators=500; total time=   8.7s\n",
            "[CV] END ......................max_depth=5, n_estimators=500; total time=   8.4s\n",
            "[CV] END ......................max_depth=5, n_estimators=500; total time=   8.8s\n",
            "[CV] END ......................max_depth=10, n_estimators=10; total time=   0.3s\n",
            "[CV] END ......................max_depth=10, n_estimators=10; total time=   0.3s\n",
            "[CV] END ......................max_depth=10, n_estimators=10; total time=   0.3s\n",
            "[CV] END ......................max_depth=10, n_estimators=10; total time=   0.3s\n",
            "[CV] END ......................max_depth=10, n_estimators=10; total time=   0.3s\n",
            "[CV] END ......................max_depth=10, n_estimators=50; total time=   1.4s\n",
            "[CV] END ......................max_depth=10, n_estimators=50; total time=   1.3s\n",
            "[CV] END ......................max_depth=10, n_estimators=50; total time=   1.4s\n",
            "[CV] END ......................max_depth=10, n_estimators=50; total time=   1.5s\n",
            "[CV] END ......................max_depth=10, n_estimators=50; total time=   2.0s\n",
            "[CV] END .....................max_depth=10, n_estimators=100; total time=   2.8s\n",
            "[CV] END .....................max_depth=10, n_estimators=100; total time=   2.7s\n",
            "[CV] END .....................max_depth=10, n_estimators=100; total time=   2.7s\n",
            "[CV] END .....................max_depth=10, n_estimators=100; total time=   2.9s\n",
            "[CV] END .....................max_depth=10, n_estimators=100; total time=   3.3s\n",
            "[CV] END .....................max_depth=10, n_estimators=500; total time=  15.4s\n",
            "[CV] END .....................max_depth=10, n_estimators=500; total time=  14.3s\n",
            "[CV] END .....................max_depth=10, n_estimators=500; total time=  14.3s\n",
            "[CV] END .....................max_depth=10, n_estimators=500; total time=  14.4s\n",
            "[CV] END .....................max_depth=10, n_estimators=500; total time=  14.4s\n",
            "[CV] END ......................max_depth=20, n_estimators=10; total time=   0.4s\n",
            "[CV] END ......................max_depth=20, n_estimators=10; total time=   0.5s\n",
            "[CV] END ......................max_depth=20, n_estimators=10; total time=   0.5s\n",
            "[CV] END ......................max_depth=20, n_estimators=10; total time=   0.5s\n",
            "[CV] END ......................max_depth=20, n_estimators=10; total time=   0.5s\n",
            "[CV] END ......................max_depth=20, n_estimators=50; total time=   2.0s\n",
            "[CV] END ......................max_depth=20, n_estimators=50; total time=   1.7s\n",
            "[CV] END ......................max_depth=20, n_estimators=50; total time=   1.7s\n",
            "[CV] END ......................max_depth=20, n_estimators=50; total time=   1.8s\n",
            "[CV] END ......................max_depth=20, n_estimators=50; total time=   1.8s\n",
            "[CV] END .....................max_depth=20, n_estimators=100; total time=   4.2s\n",
            "[CV] END .....................max_depth=20, n_estimators=100; total time=   3.6s\n",
            "[CV] END .....................max_depth=20, n_estimators=100; total time=   3.5s\n",
            "[CV] END .....................max_depth=20, n_estimators=100; total time=   3.5s\n",
            "[CV] END .....................max_depth=20, n_estimators=100; total time=   4.3s\n",
            "[CV] END .....................max_depth=20, n_estimators=500; total time=  18.3s\n",
            "[CV] END .....................max_depth=20, n_estimators=500; total time=  19.1s\n",
            "[CV] END .....................max_depth=20, n_estimators=500; total time=  18.2s\n",
            "[CV] END .....................max_depth=20, n_estimators=500; total time=  18.7s\n",
            "[CV] END .....................max_depth=20, n_estimators=500; total time=  18.6s\n",
            "[CV] END ......................max_depth=50, n_estimators=10; total time=   0.4s\n",
            "[CV] END ......................max_depth=50, n_estimators=10; total time=   0.4s\n",
            "[CV] END ......................max_depth=50, n_estimators=10; total time=   0.4s\n",
            "[CV] END ......................max_depth=50, n_estimators=10; total time=   0.4s\n",
            "[CV] END ......................max_depth=50, n_estimators=10; total time=   0.4s\n",
            "[CV] END ......................max_depth=50, n_estimators=50; total time=   1.8s\n",
            "[CV] END ......................max_depth=50, n_estimators=50; total time=   1.7s\n",
            "[CV] END ......................max_depth=50, n_estimators=50; total time=   2.5s\n",
            "[CV] END ......................max_depth=50, n_estimators=50; total time=   1.9s\n",
            "[CV] END ......................max_depth=50, n_estimators=50; total time=   1.7s\n",
            "[CV] END .....................max_depth=50, n_estimators=100; total time=   3.5s\n",
            "[CV] END .....................max_depth=50, n_estimators=100; total time=   3.4s\n",
            "[CV] END .....................max_depth=50, n_estimators=100; total time=   4.4s\n",
            "[CV] END .....................max_depth=50, n_estimators=100; total time=   3.5s\n",
            "[CV] END .....................max_depth=50, n_estimators=100; total time=   3.5s\n",
            "[CV] END .....................max_depth=50, n_estimators=500; total time=  19.2s\n",
            "[CV] END .....................max_depth=50, n_estimators=500; total time=  18.2s\n",
            "[CV] END .....................max_depth=50, n_estimators=500; total time=  19.2s\n",
            "[CV] END .....................max_depth=50, n_estimators=500; total time=  18.2s\n",
            "[CV] END .....................max_depth=50, n_estimators=500; total time=  18.9s\n"
          ]
        },
        {
          "output_type": "execute_result",
          "data": {
            "text/plain": [
              "GridSearchCV(cv=5, estimator=RandomForestRegressor(),\n",
              "             param_grid={'max_depth': [5, 10, 20, 50],\n",
              "                         'n_estimators': [10, 50, 100, 500]},\n",
              "             verbose=2)"
            ],
            "text/html": [
              "<style>#sk-container-id-4 {color: black;background-color: white;}#sk-container-id-4 pre{padding: 0;}#sk-container-id-4 div.sk-toggleable {background-color: white;}#sk-container-id-4 label.sk-toggleable__label {cursor: pointer;display: block;width: 100%;margin-bottom: 0;padding: 0.3em;box-sizing: border-box;text-align: center;}#sk-container-id-4 label.sk-toggleable__label-arrow:before {content: \"▸\";float: left;margin-right: 0.25em;color: #696969;}#sk-container-id-4 label.sk-toggleable__label-arrow:hover:before {color: black;}#sk-container-id-4 div.sk-estimator:hover label.sk-toggleable__label-arrow:before {color: black;}#sk-container-id-4 div.sk-toggleable__content {max-height: 0;max-width: 0;overflow: hidden;text-align: left;background-color: #f0f8ff;}#sk-container-id-4 div.sk-toggleable__content pre {margin: 0.2em;color: black;border-radius: 0.25em;background-color: #f0f8ff;}#sk-container-id-4 input.sk-toggleable__control:checked~div.sk-toggleable__content {max-height: 200px;max-width: 100%;overflow: auto;}#sk-container-id-4 input.sk-toggleable__control:checked~label.sk-toggleable__label-arrow:before {content: \"▾\";}#sk-container-id-4 div.sk-estimator input.sk-toggleable__control:checked~label.sk-toggleable__label {background-color: #d4ebff;}#sk-container-id-4 div.sk-label input.sk-toggleable__control:checked~label.sk-toggleable__label {background-color: #d4ebff;}#sk-container-id-4 input.sk-hidden--visually {border: 0;clip: rect(1px 1px 1px 1px);clip: rect(1px, 1px, 1px, 1px);height: 1px;margin: -1px;overflow: hidden;padding: 0;position: absolute;width: 1px;}#sk-container-id-4 div.sk-estimator {font-family: monospace;background-color: #f0f8ff;border: 1px dotted black;border-radius: 0.25em;box-sizing: border-box;margin-bottom: 0.5em;}#sk-container-id-4 div.sk-estimator:hover {background-color: #d4ebff;}#sk-container-id-4 div.sk-parallel-item::after {content: \"\";width: 100%;border-bottom: 1px solid gray;flex-grow: 1;}#sk-container-id-4 div.sk-label:hover label.sk-toggleable__label {background-color: #d4ebff;}#sk-container-id-4 div.sk-serial::before {content: \"\";position: absolute;border-left: 1px solid gray;box-sizing: border-box;top: 0;bottom: 0;left: 50%;z-index: 0;}#sk-container-id-4 div.sk-serial {display: flex;flex-direction: column;align-items: center;background-color: white;padding-right: 0.2em;padding-left: 0.2em;position: relative;}#sk-container-id-4 div.sk-item {position: relative;z-index: 1;}#sk-container-id-4 div.sk-parallel {display: flex;align-items: stretch;justify-content: center;background-color: white;position: relative;}#sk-container-id-4 div.sk-item::before, #sk-container-id-4 div.sk-parallel-item::before {content: \"\";position: absolute;border-left: 1px solid gray;box-sizing: border-box;top: 0;bottom: 0;left: 50%;z-index: -1;}#sk-container-id-4 div.sk-parallel-item {display: flex;flex-direction: column;z-index: 1;position: relative;background-color: white;}#sk-container-id-4 div.sk-parallel-item:first-child::after {align-self: flex-end;width: 50%;}#sk-container-id-4 div.sk-parallel-item:last-child::after {align-self: flex-start;width: 50%;}#sk-container-id-4 div.sk-parallel-item:only-child::after {width: 0;}#sk-container-id-4 div.sk-dashed-wrapped {border: 1px dashed gray;margin: 0 0.4em 0.5em 0.4em;box-sizing: border-box;padding-bottom: 0.4em;background-color: white;}#sk-container-id-4 div.sk-label label {font-family: monospace;font-weight: bold;display: inline-block;line-height: 1.2em;}#sk-container-id-4 div.sk-label-container {text-align: center;}#sk-container-id-4 div.sk-container {/* jupyter's `normalize.less` sets `[hidden] { display: none; }` but bootstrap.min.css set `[hidden] { display: none !important; }` so we also need the `!important` here to be able to override the default hidden behavior on the sphinx rendered scikit-learn.org. See: https://github.com/scikit-learn/scikit-learn/issues/21755 */display: inline-block !important;position: relative;}#sk-container-id-4 div.sk-text-repr-fallback {display: none;}</style><div id=\"sk-container-id-4\" class=\"sk-top-container\"><div class=\"sk-text-repr-fallback\"><pre>GridSearchCV(cv=5, estimator=RandomForestRegressor(),\n",
              "             param_grid={&#x27;max_depth&#x27;: [5, 10, 20, 50],\n",
              "                         &#x27;n_estimators&#x27;: [10, 50, 100, 500]},\n",
              "             verbose=2)</pre><b>In a Jupyter environment, please rerun this cell to show the HTML representation or trust the notebook. <br />On GitHub, the HTML representation is unable to render, please try loading this page with nbviewer.org.</b></div><div class=\"sk-container\" hidden><div class=\"sk-item sk-dashed-wrapped\"><div class=\"sk-label-container\"><div class=\"sk-label sk-toggleable\"><input class=\"sk-toggleable__control sk-hidden--visually\" id=\"sk-estimator-id-10\" type=\"checkbox\" ><label for=\"sk-estimator-id-10\" class=\"sk-toggleable__label sk-toggleable__label-arrow\">GridSearchCV</label><div class=\"sk-toggleable__content\"><pre>GridSearchCV(cv=5, estimator=RandomForestRegressor(),\n",
              "             param_grid={&#x27;max_depth&#x27;: [5, 10, 20, 50],\n",
              "                         &#x27;n_estimators&#x27;: [10, 50, 100, 500]},\n",
              "             verbose=2)</pre></div></div></div><div class=\"sk-parallel\"><div class=\"sk-parallel-item\"><div class=\"sk-item\"><div class=\"sk-label-container\"><div class=\"sk-label sk-toggleable\"><input class=\"sk-toggleable__control sk-hidden--visually\" id=\"sk-estimator-id-11\" type=\"checkbox\" ><label for=\"sk-estimator-id-11\" class=\"sk-toggleable__label sk-toggleable__label-arrow\">estimator: RandomForestRegressor</label><div class=\"sk-toggleable__content\"><pre>RandomForestRegressor()</pre></div></div></div><div class=\"sk-serial\"><div class=\"sk-item\"><div class=\"sk-estimator sk-toggleable\"><input class=\"sk-toggleable__control sk-hidden--visually\" id=\"sk-estimator-id-12\" type=\"checkbox\" ><label for=\"sk-estimator-id-12\" class=\"sk-toggleable__label sk-toggleable__label-arrow\">RandomForestRegressor</label><div class=\"sk-toggleable__content\"><pre>RandomForestRegressor()</pre></div></div></div></div></div></div></div></div></div></div>"
            ]
          },
          "metadata": {},
          "execution_count": 57
        }
      ]
    },
    {
      "cell_type": "code",
      "source": [
        "grid.best_params_"
      ],
      "metadata": {
        "colab": {
          "base_uri": "https://localhost:8080/"
        },
        "id": "dYxo856V4NTH",
        "outputId": "413514e6-4019-4b61-beab-65e53f8977e5"
      },
      "execution_count": 58,
      "outputs": [
        {
          "output_type": "execute_result",
          "data": {
            "text/plain": [
              "{'max_depth': 50, 'n_estimators': 500}"
            ]
          },
          "metadata": {},
          "execution_count": 58
        }
      ]
    },
    {
      "cell_type": "code",
      "source": [
        "# predicting the value\n",
        "y_pred = grid.predict(x_test)"
      ],
      "metadata": {
        "id": "gBs9UTma531P"
      },
      "execution_count": 59,
      "outputs": []
    },
    {
      "cell_type": "code",
      "source": [
        "print('Mean squared error: ', mean_squared_error(y_test, y_pred))\n",
        "print('Mean absolute error: ', mean_absolute_error(y_test, y_pred))\n",
        "print('R2 Score: ', r2_score(y_test, y_pred))"
      ],
      "metadata": {
        "colab": {
          "base_uri": "https://localhost:8080/"
        },
        "id": "UtJOY0Aa56ZM",
        "outputId": "2b7ba42d-a693-4c79-fac4-7db0cac51f58"
      },
      "execution_count": 60,
      "outputs": [
        {
          "output_type": "stream",
          "name": "stdout",
          "text": [
            "Mean squared error:  1.1236581699638657\n",
            "Mean absolute error:  0.5564186754967102\n",
            "R2 Score:  0.9961238719952761\n"
          ]
        }
      ]
    },
    {
      "cell_type": "markdown",
      "source": [
        "KNN Regressior"
      ],
      "metadata": {
        "id": "CKvBZf4m5_oz"
      }
    },
    {
      "cell_type": "code",
      "source": [
        "# implementing KNN regressor\n",
        "\n",
        "from sklearn.neighbors import KNeighborsRegressor\n",
        "param_grid = {'n_neighbors': [5, 10, 20, 50]}\n",
        "grid = GridSearchCV(KNeighborsRegressor(), param_grid, cv = 5, verbose = 2)\n",
        "grid.fit(x_train, y_train)"
      ],
      "metadata": {
        "colab": {
          "base_uri": "https://localhost:8080/",
          "height": 501
        },
        "id": "C0j9D0Nh6Cay",
        "outputId": "89b71f4f-9e59-4197-925b-4726f48bf1ea"
      },
      "execution_count": 61,
      "outputs": [
        {
          "output_type": "stream",
          "name": "stdout",
          "text": [
            "Fitting 5 folds for each of 4 candidates, totalling 20 fits\n",
            "[CV] END ......................................n_neighbors=5; total time=   0.0s\n",
            "[CV] END ......................................n_neighbors=5; total time=   0.0s\n",
            "[CV] END ......................................n_neighbors=5; total time=   0.0s\n",
            "[CV] END ......................................n_neighbors=5; total time=   0.0s\n",
            "[CV] END ......................................n_neighbors=5; total time=   0.0s\n",
            "[CV] END .....................................n_neighbors=10; total time=   0.0s\n",
            "[CV] END .....................................n_neighbors=10; total time=   0.0s\n",
            "[CV] END .....................................n_neighbors=10; total time=   0.0s\n",
            "[CV] END .....................................n_neighbors=10; total time=   0.0s\n",
            "[CV] END .....................................n_neighbors=10; total time=   0.0s\n",
            "[CV] END .....................................n_neighbors=20; total time=   0.0s\n",
            "[CV] END .....................................n_neighbors=20; total time=   0.0s\n",
            "[CV] END .....................................n_neighbors=20; total time=   0.0s\n",
            "[CV] END .....................................n_neighbors=20; total time=   0.0s\n",
            "[CV] END .....................................n_neighbors=20; total time=   0.0s\n",
            "[CV] END .....................................n_neighbors=50; total time=   0.1s\n",
            "[CV] END .....................................n_neighbors=50; total time=   0.1s\n",
            "[CV] END .....................................n_neighbors=50; total time=   0.1s\n",
            "[CV] END .....................................n_neighbors=50; total time=   0.1s\n",
            "[CV] END .....................................n_neighbors=50; total time=   0.1s\n"
          ]
        },
        {
          "output_type": "execute_result",
          "data": {
            "text/plain": [
              "GridSearchCV(cv=5, estimator=KNeighborsRegressor(),\n",
              "             param_grid={'n_neighbors': [5, 10, 20, 50]}, verbose=2)"
            ],
            "text/html": [
              "<style>#sk-container-id-5 {color: black;background-color: white;}#sk-container-id-5 pre{padding: 0;}#sk-container-id-5 div.sk-toggleable {background-color: white;}#sk-container-id-5 label.sk-toggleable__label {cursor: pointer;display: block;width: 100%;margin-bottom: 0;padding: 0.3em;box-sizing: border-box;text-align: center;}#sk-container-id-5 label.sk-toggleable__label-arrow:before {content: \"▸\";float: left;margin-right: 0.25em;color: #696969;}#sk-container-id-5 label.sk-toggleable__label-arrow:hover:before {color: black;}#sk-container-id-5 div.sk-estimator:hover label.sk-toggleable__label-arrow:before {color: black;}#sk-container-id-5 div.sk-toggleable__content {max-height: 0;max-width: 0;overflow: hidden;text-align: left;background-color: #f0f8ff;}#sk-container-id-5 div.sk-toggleable__content pre {margin: 0.2em;color: black;border-radius: 0.25em;background-color: #f0f8ff;}#sk-container-id-5 input.sk-toggleable__control:checked~div.sk-toggleable__content {max-height: 200px;max-width: 100%;overflow: auto;}#sk-container-id-5 input.sk-toggleable__control:checked~label.sk-toggleable__label-arrow:before {content: \"▾\";}#sk-container-id-5 div.sk-estimator input.sk-toggleable__control:checked~label.sk-toggleable__label {background-color: #d4ebff;}#sk-container-id-5 div.sk-label input.sk-toggleable__control:checked~label.sk-toggleable__label {background-color: #d4ebff;}#sk-container-id-5 input.sk-hidden--visually {border: 0;clip: rect(1px 1px 1px 1px);clip: rect(1px, 1px, 1px, 1px);height: 1px;margin: -1px;overflow: hidden;padding: 0;position: absolute;width: 1px;}#sk-container-id-5 div.sk-estimator {font-family: monospace;background-color: #f0f8ff;border: 1px dotted black;border-radius: 0.25em;box-sizing: border-box;margin-bottom: 0.5em;}#sk-container-id-5 div.sk-estimator:hover {background-color: #d4ebff;}#sk-container-id-5 div.sk-parallel-item::after {content: \"\";width: 100%;border-bottom: 1px solid gray;flex-grow: 1;}#sk-container-id-5 div.sk-label:hover label.sk-toggleable__label {background-color: #d4ebff;}#sk-container-id-5 div.sk-serial::before {content: \"\";position: absolute;border-left: 1px solid gray;box-sizing: border-box;top: 0;bottom: 0;left: 50%;z-index: 0;}#sk-container-id-5 div.sk-serial {display: flex;flex-direction: column;align-items: center;background-color: white;padding-right: 0.2em;padding-left: 0.2em;position: relative;}#sk-container-id-5 div.sk-item {position: relative;z-index: 1;}#sk-container-id-5 div.sk-parallel {display: flex;align-items: stretch;justify-content: center;background-color: white;position: relative;}#sk-container-id-5 div.sk-item::before, #sk-container-id-5 div.sk-parallel-item::before {content: \"\";position: absolute;border-left: 1px solid gray;box-sizing: border-box;top: 0;bottom: 0;left: 50%;z-index: -1;}#sk-container-id-5 div.sk-parallel-item {display: flex;flex-direction: column;z-index: 1;position: relative;background-color: white;}#sk-container-id-5 div.sk-parallel-item:first-child::after {align-self: flex-end;width: 50%;}#sk-container-id-5 div.sk-parallel-item:last-child::after {align-self: flex-start;width: 50%;}#sk-container-id-5 div.sk-parallel-item:only-child::after {width: 0;}#sk-container-id-5 div.sk-dashed-wrapped {border: 1px dashed gray;margin: 0 0.4em 0.5em 0.4em;box-sizing: border-box;padding-bottom: 0.4em;background-color: white;}#sk-container-id-5 div.sk-label label {font-family: monospace;font-weight: bold;display: inline-block;line-height: 1.2em;}#sk-container-id-5 div.sk-label-container {text-align: center;}#sk-container-id-5 div.sk-container {/* jupyter's `normalize.less` sets `[hidden] { display: none; }` but bootstrap.min.css set `[hidden] { display: none !important; }` so we also need the `!important` here to be able to override the default hidden behavior on the sphinx rendered scikit-learn.org. See: https://github.com/scikit-learn/scikit-learn/issues/21755 */display: inline-block !important;position: relative;}#sk-container-id-5 div.sk-text-repr-fallback {display: none;}</style><div id=\"sk-container-id-5\" class=\"sk-top-container\"><div class=\"sk-text-repr-fallback\"><pre>GridSearchCV(cv=5, estimator=KNeighborsRegressor(),\n",
              "             param_grid={&#x27;n_neighbors&#x27;: [5, 10, 20, 50]}, verbose=2)</pre><b>In a Jupyter environment, please rerun this cell to show the HTML representation or trust the notebook. <br />On GitHub, the HTML representation is unable to render, please try loading this page with nbviewer.org.</b></div><div class=\"sk-container\" hidden><div class=\"sk-item sk-dashed-wrapped\"><div class=\"sk-label-container\"><div class=\"sk-label sk-toggleable\"><input class=\"sk-toggleable__control sk-hidden--visually\" id=\"sk-estimator-id-13\" type=\"checkbox\" ><label for=\"sk-estimator-id-13\" class=\"sk-toggleable__label sk-toggleable__label-arrow\">GridSearchCV</label><div class=\"sk-toggleable__content\"><pre>GridSearchCV(cv=5, estimator=KNeighborsRegressor(),\n",
              "             param_grid={&#x27;n_neighbors&#x27;: [5, 10, 20, 50]}, verbose=2)</pre></div></div></div><div class=\"sk-parallel\"><div class=\"sk-parallel-item\"><div class=\"sk-item\"><div class=\"sk-label-container\"><div class=\"sk-label sk-toggleable\"><input class=\"sk-toggleable__control sk-hidden--visually\" id=\"sk-estimator-id-14\" type=\"checkbox\" ><label for=\"sk-estimator-id-14\" class=\"sk-toggleable__label sk-toggleable__label-arrow\">estimator: KNeighborsRegressor</label><div class=\"sk-toggleable__content\"><pre>KNeighborsRegressor()</pre></div></div></div><div class=\"sk-serial\"><div class=\"sk-item\"><div class=\"sk-estimator sk-toggleable\"><input class=\"sk-toggleable__control sk-hidden--visually\" id=\"sk-estimator-id-15\" type=\"checkbox\" ><label for=\"sk-estimator-id-15\" class=\"sk-toggleable__label sk-toggleable__label-arrow\">KNeighborsRegressor</label><div class=\"sk-toggleable__content\"><pre>KNeighborsRegressor()</pre></div></div></div></div></div></div></div></div></div></div>"
            ]
          },
          "metadata": {},
          "execution_count": 61
        }
      ]
    },
    {
      "cell_type": "code",
      "source": [
        "grid.best_params_"
      ],
      "metadata": {
        "colab": {
          "base_uri": "https://localhost:8080/"
        },
        "id": "ItWsuJF76Mo4",
        "outputId": "8e3cdaa0-d1d5-4aa1-fd06-01beb3019b1c"
      },
      "execution_count": 62,
      "outputs": [
        {
          "output_type": "execute_result",
          "data": {
            "text/plain": [
              "{'n_neighbors': 5}"
            ]
          },
          "metadata": {},
          "execution_count": 62
        }
      ]
    },
    {
      "cell_type": "code",
      "source": [
        "# predicting the values\n",
        "y_pred = grid.predict(x_test)"
      ],
      "metadata": {
        "id": "ltrsAftb6P7d"
      },
      "execution_count": 64,
      "outputs": []
    },
    {
      "cell_type": "code",
      "source": [
        "print('Mean squared error: ', mean_squared_error(y_test, y_pred))\n",
        "print('Mean absolute error: ', mean_absolute_error(y_test, y_pred))\n",
        "print('R2 Score: ', r2_score(y_test, y_pred))"
      ],
      "metadata": {
        "colab": {
          "base_uri": "https://localhost:8080/"
        },
        "id": "zFn4ooup6WZH",
        "outputId": "d0234dcf-f8b2-40da-d33c-df64f3f74308"
      },
      "execution_count": 65,
      "outputs": [
        {
          "output_type": "stream",
          "name": "stdout",
          "text": [
            "Mean squared error:  11.495183141721862\n",
            "Mean absolute error:  2.2112715231788083\n",
            "R2 Score:  0.9603466583645356\n"
          ]
        }
      ]
    },
    {
      "cell_type": "markdown",
      "source": [
        "MODEL SAVING"
      ],
      "metadata": {
        "id": "Viuk0Y3W9ttv"
      }
    },
    {
      "cell_type": "code",
      "source": [
        "import pickle\n",
        "# open a file, where you ant to store the data\n",
        "file = open('power.pkl', 'wb')\n",
        "\n",
        "# dump information to that file\n",
        "pickle.dump(grid_dtc, file)"
      ],
      "metadata": {
        "id": "wdhXvEU_9k6o"
      },
      "execution_count": 70,
      "outputs": []
    },
    {
      "cell_type": "code",
      "source": [
        "model = open('power.pkl','rb')\n",
        "forest = pickle.load(model)"
      ],
      "metadata": {
        "id": "tJjYH3ex-zPQ"
      },
      "execution_count": 71,
      "outputs": []
    },
    {
      "cell_type": "code",
      "source": [
        "x_test.iloc[0]"
      ],
      "metadata": {
        "colab": {
          "base_uri": "https://localhost:8080/"
        },
        "id": "Z-3Y4YR7_D2K",
        "outputId": "31881c95-6c61-4854-e7bf-a187a8b2d028"
      },
      "execution_count": 74,
      "outputs": [
        {
          "output_type": "execute_result",
          "data": {
            "text/plain": [
              "Temp              21.860000\n",
              "Vacuum            60.270000\n",
              "Pressure        1016.060000\n",
              "Humidity          90.480000\n",
              "TempDiff          38.410000\n",
              "PressureDiff     955.790000\n",
              "PowerPerFuel       0.338755\n",
              "Name: 6691, dtype: float64"
            ]
          },
          "metadata": {},
          "execution_count": 74
        }
      ]
    },
    {
      "cell_type": "code",
      "source": [
        "y=np.array([[5.76,40.07,1013.22,62.99,34.31,973.15,2.1432]])\n",
        "new=forest.predict(y)\n",
        "print(new[0])"
      ],
      "metadata": {
        "colab": {
          "base_uri": "https://localhost:8080/"
        },
        "id": "DBshZ4MG-5se",
        "outputId": "57b6a4b8-2b78-4077-e92a-44233fee6e7c"
      },
      "execution_count": 76,
      "outputs": [
        {
          "output_type": "stream",
          "name": "stdout",
          "text": [
            "494.67\n"
          ]
        },
        {
          "output_type": "stream",
          "name": "stderr",
          "text": [
            "/usr/local/lib/python3.10/dist-packages/sklearn/base.py:439: UserWarning: X does not have valid feature names, but DecisionTreeRegressor was fitted with feature names\n",
            "  warnings.warn(\n"
          ]
        }
      ]
    }
  ]
}